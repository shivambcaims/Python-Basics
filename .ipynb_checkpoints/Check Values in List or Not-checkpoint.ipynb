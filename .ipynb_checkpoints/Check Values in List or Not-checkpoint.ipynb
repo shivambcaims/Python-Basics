{
 "cells": [
  {
   "cell_type": "markdown",
   "id": "c14da7f3",
   "metadata": {},
   "source": [
    "##### Check if the value is in list ('in' Keyword)"
   ]
  },
  {
   "cell_type": "code",
   "execution_count": 1,
   "id": "0b374b87",
   "metadata": {},
   "outputs": [
    {
     "data": {
      "text/plain": [
       "True"
      ]
     },
     "execution_count": 1,
     "metadata": {},
     "output_type": "execute_result"
    }
   ],
   "source": [
    "cars=['ferrari','bmw','audi','mercedes','lamborghini']\n",
    "'bmw' in cars"
   ]
  },
  {
   "cell_type": "code",
   "execution_count": 2,
   "id": "3a8b5488",
   "metadata": {},
   "outputs": [
    {
     "data": {
      "text/plain": [
       "False"
      ]
     },
     "execution_count": 2,
     "metadata": {},
     "output_type": "execute_result"
    }
   ],
   "source": [
    "'toyota' in cars"
   ]
  },
  {
   "cell_type": "markdown",
   "id": "81648a55",
   "metadata": {},
   "source": [
    "##### Check if the value in NOT in a list ('not' in Keyword)"
   ]
  },
  {
   "cell_type": "code",
   "execution_count": 3,
   "id": "a46a5770",
   "metadata": {},
   "outputs": [
    {
     "data": {
      "text/plain": [
       "False"
      ]
     },
     "execution_count": 3,
     "metadata": {},
     "output_type": "execute_result"
    }
   ],
   "source": [
    "cars=['ferrari','bmw','audi','mercedes','lamborghini']\n",
    "'bmw' not in cars"
   ]
  },
  {
   "cell_type": "code",
   "execution_count": 4,
   "id": "038c6a15",
   "metadata": {},
   "outputs": [
    {
     "name": "stdout",
     "output_type": "stream",
     "text": [
      "Your car is not on the list.\n"
     ]
    }
   ],
   "source": [
    "your_car = 'toyota'\n",
    "if your_car not in cars:\n",
    "    print(\"Your car is not on the list.\")"
   ]
  },
  {
   "cell_type": "code",
   "execution_count": 6,
   "id": "93b5ebc0",
   "metadata": {},
   "outputs": [
    {
     "name": "stdout",
     "output_type": "stream",
     "text": [
      "Your car Toyota is not on the list.\n"
     ]
    }
   ],
   "source": [
    "your_car = 'toyota'\n",
    "if your_car not in cars:\n",
    "    print(\"Your car \" +your_car.title()+\" is not on the list.\")"
   ]
  },
  {
   "cell_type": "code",
   "execution_count": null,
   "id": "f41ad71a",
   "metadata": {},
   "outputs": [],
   "source": []
  }
 ],
 "metadata": {
  "kernelspec": {
   "display_name": "Python 3 (ipykernel)",
   "language": "python",
   "name": "python3"
  },
  "language_info": {
   "codemirror_mode": {
    "name": "ipython",
    "version": 3
   },
   "file_extension": ".py",
   "mimetype": "text/x-python",
   "name": "python",
   "nbconvert_exporter": "python",
   "pygments_lexer": "ipython3",
   "version": "3.9.13"
  }
 },
 "nbformat": 4,
 "nbformat_minor": 5
}
