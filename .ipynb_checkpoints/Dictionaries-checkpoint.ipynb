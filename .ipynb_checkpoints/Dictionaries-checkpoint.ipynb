{
 "cells": [
  {
   "cell_type": "markdown",
   "id": "3313dc61",
   "metadata": {},
   "source": [
    "## Dictionaries"
   ]
  },
  {
   "cell_type": "markdown",
   "id": "0b62afdf",
   "metadata": {},
   "source": [
    "###### Working with Dictionaries"
   ]
  },
  {
   "cell_type": "code",
   "execution_count": 1,
   "id": "757b0d6c",
   "metadata": {},
   "outputs": [
    {
     "name": "stdout",
     "output_type": "stream",
     "text": [
      "{'fname': 'Shivam', 'lname': 'Singh'}\n"
     ]
    }
   ],
   "source": [
    "user={'fname': 'Shivam','lname':'Singh'}\n",
    "print(user)"
   ]
  },
  {
   "cell_type": "markdown",
   "id": "630adc79",
   "metadata": {},
   "source": [
    "###### Accessing values in Dictionaries"
   ]
  },
  {
   "cell_type": "code",
   "execution_count": 12,
   "id": "c8e2505c",
   "metadata": {},
   "outputs": [
    {
     "name": "stdout",
     "output_type": "stream",
     "text": [
      "My first name is Singh\n"
     ]
    }
   ],
   "source": [
    "user={'fname': 'Shivam','lname':'Singh'}\n",
    "print(\"My first name is \" +user['lname'])"
   ]
  },
  {
   "cell_type": "code",
   "execution_count": 13,
   "id": "fdedff21",
   "metadata": {},
   "outputs": [
    {
     "name": "stdout",
     "output_type": "stream",
     "text": [
      "My last name is Shivam\n"
     ]
    }
   ],
   "source": [
    "print(\"My last name is \"+user['fname'])"
   ]
  },
  {
   "cell_type": "markdown",
   "id": "c4ad129e",
   "metadata": {},
   "source": [
    "##### Adding Key Value Pairs"
   ]
  },
  {
   "cell_type": "code",
   "execution_count": 7,
   "id": "97b6f486",
   "metadata": {},
   "outputs": [
    {
     "name": "stdout",
     "output_type": "stream",
     "text": [
      "{'fname': 'Shivam', 'lname': 'Singh'}\n"
     ]
    }
   ],
   "source": [
    "user={'fname': 'Shivam','lname':'Singh'}\n",
    "print(user)"
   ]
  },
  {
   "cell_type": "code",
   "execution_count": 20,
   "id": "d921949b",
   "metadata": {},
   "outputs": [],
   "source": [
    "user['age']=20"
   ]
  },
  {
   "cell_type": "code",
   "execution_count": 21,
   "id": "20d0b9ac",
   "metadata": {},
   "outputs": [
    {
     "name": "stdout",
     "output_type": "stream",
     "text": [
      "{'fname': 'Shivam', 'lname': 'Singh', 'age': 20}\n"
     ]
    }
   ],
   "source": [
    "print(user)"
   ]
  },
  {
   "cell_type": "code",
   "execution_count": 22,
   "id": "98bdc3c8",
   "metadata": {},
   "outputs": [
    {
     "name": "stdout",
     "output_type": "stream",
     "text": [
      "Your age is 20\n"
     ]
    }
   ],
   "source": [
    "print('Your age is '+ str(user['age']))"
   ]
  },
  {
   "cell_type": "markdown",
   "id": "6dfdf880",
   "metadata": {},
   "source": [
    "##### Adding value in Empty Dict....."
   ]
  },
  {
   "cell_type": "code",
   "execution_count": 56,
   "id": "dc707c4c",
   "metadata": {},
   "outputs": [
    {
     "name": "stdout",
     "output_type": "stream",
     "text": [
      "{'First_name': 'Shivam', 'Last_name': 'Singh', 'Age': '20'}\n"
     ]
    }
   ],
   "source": [
    "info={}\n",
    "info['First_name']='Shivam'\n",
    "info['Last_name']='Singh'\n",
    "info['Age']='20'\n",
    "print(info)"
   ]
  },
  {
   "cell_type": "markdown",
   "id": "d64e17f0",
   "metadata": {},
   "source": [
    "##### Modify Values"
   ]
  },
  {
   "cell_type": "code",
   "execution_count": 57,
   "id": "4738eba9",
   "metadata": {},
   "outputs": [
    {
     "name": "stdout",
     "output_type": "stream",
     "text": [
      "{'First_name': 'Shivam', 'Last_name': 'Singh', 'Age': '20'}\n"
     ]
    }
   ],
   "source": [
    "print(info)"
   ]
  },
  {
   "cell_type": "code",
   "execution_count": 58,
   "id": "853c514a",
   "metadata": {},
   "outputs": [
    {
     "name": "stdout",
     "output_type": "stream",
     "text": [
      "{'First_name': 'Rahul', 'Last_name': 'Singh', 'Age': '20'}\n"
     ]
    }
   ],
   "source": [
    "info['First_name']='Rahul'\n",
    "print(info)"
   ]
  },
  {
   "cell_type": "code",
   "execution_count": 59,
   "id": "d931fbf7",
   "metadata": {},
   "outputs": [
    {
     "name": "stdout",
     "output_type": "stream",
     "text": [
      "{'First_name': 'Rahul', 'Last_name': 'Singh', 'Age': 25}\n"
     ]
    }
   ],
   "source": [
    "info['Age']=25\n",
    "print(info)"
   ]
  },
  {
   "cell_type": "markdown",
   "id": "2df56b20",
   "metadata": {},
   "source": [
    "#### Removing Key-Value Pairs"
   ]
  },
  {
   "cell_type": "code",
   "execution_count": 73,
   "id": "4ad14988",
   "metadata": {
    "scrolled": true
   },
   "outputs": [
    {
     "name": "stdout",
     "output_type": "stream",
     "text": [
      "{'fname': 'Shivam', 'lname': 'Singh', 'age': 20}\n"
     ]
    }
   ],
   "source": [
    "user2 ={'fname': 'Shivam','lname':'Singh', 'age':20}\n",
    "print(user2)"
   ]
  },
  {
   "cell_type": "code",
   "execution_count": 74,
   "id": "78e57207",
   "metadata": {},
   "outputs": [
    {
     "name": "stdout",
     "output_type": "stream",
     "text": [
      "{'fname': 'Shivam', 'lname': 'Singh'}\n"
     ]
    }
   ],
   "source": [
    "del user2['age']\n",
    "print(user2)"
   ]
  },
  {
   "cell_type": "code",
   "execution_count": null,
   "id": "5bd8c559",
   "metadata": {},
   "outputs": [],
   "source": []
  }
 ],
 "metadata": {
  "kernelspec": {
   "display_name": "Python 3 (ipykernel)",
   "language": "python",
   "name": "python3"
  },
  "language_info": {
   "codemirror_mode": {
    "name": "ipython",
    "version": 3
   },
   "file_extension": ".py",
   "mimetype": "text/x-python",
   "name": "python",
   "nbconvert_exporter": "python",
   "pygments_lexer": "ipython3",
   "version": "3.9.13"
  }
 },
 "nbformat": 4,
 "nbformat_minor": 5
}
