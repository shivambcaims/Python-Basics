{
 "cells": [
  {
   "cell_type": "code",
   "execution_count": null,
   "id": "f045c1af",
   "metadata": {},
   "outputs": [],
   "source": [
    "print('Welcome to Python')"
   ]
  },
  {
   "cell_type": "code",
   "execution_count": null,
   "id": "cd7636a8",
   "metadata": {},
   "outputs": [],
   "source": [
    "message = 'Welcome to Python'"
   ]
  },
  {
   "cell_type": "code",
   "execution_count": null,
   "id": "3846b993",
   "metadata": {},
   "outputs": [],
   "source": [
    "type(message)"
   ]
  },
  {
   "cell_type": "markdown",
   "id": "c7c5e3e0",
   "metadata": {},
   "source": [
    "## Methods to change case of string"
   ]
  },
  {
   "cell_type": "code",
   "execution_count": null,
   "id": "5f3ceeaa",
   "metadata": {},
   "outputs": [],
   "source": [
    "message='my name is shivam singh'\n",
    "message.title()"
   ]
  },
  {
   "cell_type": "code",
   "execution_count": null,
   "id": "a202adcc",
   "metadata": {},
   "outputs": [],
   "source": [
    "print(message)"
   ]
  },
  {
   "cell_type": "code",
   "execution_count": null,
   "id": "a5580742",
   "metadata": {},
   "outputs": [],
   "source": [
    "message=message.title()\n",
    "print(message)"
   ]
  },
  {
   "cell_type": "code",
   "execution_count": null,
   "id": "0a38a534",
   "metadata": {},
   "outputs": [],
   "source": [
    "message=message.upper()\n",
    "print(message)"
   ]
  },
  {
   "cell_type": "code",
   "execution_count": null,
   "id": "0ce4ce9c",
   "metadata": {},
   "outputs": [],
   "source": [
    "print(message.lower())"
   ]
  },
  {
   "cell_type": "code",
   "execution_count": null,
   "id": "469388b2",
   "metadata": {},
   "outputs": [],
   "source": [
    "first_name ='Shivam'\n",
    "last_name = 'Singh'\n",
    "full_name = first_name + \" \" + last_name\n",
    "print(full_name)"
   ]
  },
  {
   "cell_type": "markdown",
   "id": "84bb2625",
   "metadata": {},
   "source": [
    "# Adding White Spaces \n"
   ]
  },
  {
   "cell_type": "markdown",
   "id": "20ec3879",
   "metadata": {},
   "source": [
    "# To add a Tab - \\t"
   ]
  },
  {
   "cell_type": "code",
   "execution_count": 22,
   "id": "f87d8b14",
   "metadata": {},
   "outputs": [
    {
     "name": "stdout",
     "output_type": "stream",
     "text": [
      "Shivam\tSingh\n"
     ]
    }
   ],
   "source": [
    "print(first_name+\"\\t\"+last_name)"
   ]
  },
  {
   "cell_type": "markdown",
   "id": "bf59ef3e",
   "metadata": {},
   "source": [
    "## TO add a New Line - \\n"
   ]
  },
  {
   "cell_type": "code",
   "execution_count": 23,
   "id": "1123f601",
   "metadata": {
    "scrolled": true
   },
   "outputs": [
    {
     "name": "stdout",
     "output_type": "stream",
     "text": [
      "Shivam\n",
      "Singh\n"
     ]
    }
   ],
   "source": [
    "print(first_name+\"\\n\"+last_name)"
   ]
  },
  {
   "cell_type": "markdown",
   "id": "b50f0f76",
   "metadata": {},
   "source": [
    "## Use both Tab and New Line "
   ]
  },
  {
   "cell_type": "code",
   "execution_count": 25,
   "id": "791c0b97",
   "metadata": {
    "scrolled": true
   },
   "outputs": [
    {
     "name": "stdout",
     "output_type": "stream",
     "text": [
      "Names:\n",
      "\tShivam Singh\n",
      "\tDipansi Singh\n",
      "\tNisha Nagar\n",
      "\tUsha Nagar\n",
      "\t\n"
     ]
    }
   ],
   "source": [
    "print(\"Names:\\n\\tShivam Singh\\n\\tDipansi Singh\\n\\tNisha Nagar\\n\\tUsha Nagar\\n\\t\")"
   ]
  },
  {
   "cell_type": "markdown",
   "id": "b7133184",
   "metadata": {},
   "source": [
    "## Strip Whitespace"
   ]
  },
  {
   "cell_type": "code",
   "execution_count": 37,
   "id": "675acfd6",
   "metadata": {},
   "outputs": [
    {
     "ename": "NameError",
     "evalue": "name 'hello' is not defined",
     "output_type": "error",
     "traceback": [
      "\u001b[1;31m---------------------------------------------------------------------------\u001b[0m",
      "\u001b[1;31mNameError\u001b[0m                                 Traceback (most recent call last)",
      "\u001b[1;32m~\\AppData\\Local\\Temp\\ipykernel_9500\\3936606730.py\u001b[0m in \u001b[0;36m<module>\u001b[1;34m\u001b[0m\n\u001b[1;32m----> 1\u001b[1;33m \u001b[0mprint\u001b[0m\u001b[1;33m(\u001b[0m\u001b[0mhello\u001b[0m\u001b[1;33m)\u001b[0m\u001b[1;33m\u001b[0m\u001b[1;33m\u001b[0m\u001b[0m\n\u001b[0m",
      "\u001b[1;31mNameError\u001b[0m: name 'hello' is not defined"
     ]
    }
   ],
   "source": [
    "print(hello)"
   ]
  },
  {
   "cell_type": "code",
   "execution_count": null,
   "id": "9b769089",
   "metadata": {},
   "outputs": [],
   "source": []
  }
 ],
 "metadata": {
  "kernelspec": {
   "display_name": "Python 3 (ipykernel)",
   "language": "python",
   "name": "python3"
  },
  "language_info": {
   "codemirror_mode": {
    "name": "ipython",
    "version": 3
   },
   "file_extension": ".py",
   "mimetype": "text/x-python",
   "name": "python",
   "nbconvert_exporter": "python",
   "pygments_lexer": "ipython3",
   "version": "3.9.13"
  }
 },
 "nbformat": 4,
 "nbformat_minor": 5
}
