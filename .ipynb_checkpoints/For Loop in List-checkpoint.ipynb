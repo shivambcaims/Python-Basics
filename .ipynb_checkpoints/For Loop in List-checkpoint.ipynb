{
 "cells": [
  {
   "cell_type": "markdown",
   "id": "62c7889d",
   "metadata": {},
   "source": [
    "#### Working in List"
   ]
  },
  {
   "cell_type": "markdown",
   "id": "6fee75e1",
   "metadata": {},
   "source": [
    "#### Looping through list"
   ]
  },
  {
   "cell_type": "code",
   "execution_count": 3,
   "id": "fe432008",
   "metadata": {},
   "outputs": [
    {
     "name": "stdout",
     "output_type": "stream",
     "text": [
      "Tom\n",
      "Jack\n",
      "Jill\n"
     ]
    }
   ],
   "source": [
    "list_name=['Tom','Jack','Jill']\n",
    "for name in list_name:\n",
    "   print(name)"
   ]
  },
  {
   "cell_type": "code",
   "execution_count": 5,
   "id": "0e9fb4da",
   "metadata": {},
   "outputs": [
    {
     "name": "stdout",
     "output_type": "stream",
     "text": [
      "Tom, Welcome to Python's Course\n",
      "Jack, Welcome to Python's Course\n",
      "Jill, Welcome to Python's Course\n"
     ]
    }
   ],
   "source": [
    "list_name=['Tom','Jack','Jill']\n",
    "for name in list_name:\n",
    " print(name+ \", Welcome to Python's Course\")"
   ]
  },
  {
   "cell_type": "code",
   "execution_count": 6,
   "id": "22b3dbd9",
   "metadata": {},
   "outputs": [
    {
     "name": "stdout",
     "output_type": "stream",
     "text": [
      "Tom, How are you..?\n",
      "Tom, Welcome to Python's Course\n",
      "Jack, How are you..?\n",
      "Jack, Welcome to Python's Course\n",
      "Jill, How are you..?\n",
      "Jill, Welcome to Python's Course\n"
     ]
    }
   ],
   "source": [
    "list_name=['Tom','Jack','Jill']\n",
    "for name in list_name:\n",
    " print(name+ \", How are you..?\")\n",
    " print(name+ \", Welcome to Python's Course\")"
   ]
  },
  {
   "cell_type": "code",
   "execution_count": 10,
   "id": "557c9af0",
   "metadata": {},
   "outputs": [
    {
     "name": "stdout",
     "output_type": "stream",
     "text": [
      "Tom, How are you..?\n",
      "Jack, How are you..?\n",
      "Jill, How are you..?\n",
      "Jill, Welcome to Python's Course\n"
     ]
    }
   ],
   "source": [
    "list_name=['Tom','Jack','Jill']\n",
    "for name in list_name:\n",
    " print(name+ \", How are you..?\")\n",
    "print(name+ \", Welcome to Python's Course\")"
   ]
  },
  {
   "cell_type": "markdown",
   "id": "c896a73c",
   "metadata": {},
   "source": [
    "#### Doing Something After for loop"
   ]
  },
  {
   "cell_type": "code",
   "execution_count": 11,
   "id": "c048acf2",
   "metadata": {},
   "outputs": [
    {
     "name": "stdout",
     "output_type": "stream",
     "text": [
      "Tom, How are you..?\n",
      "Tom, Welcome to Python's Course\n",
      "\n",
      "Jack, How are you..?\n",
      "Jack, Welcome to Python's Course\n",
      "\n",
      "Jill, How are you..?\n",
      "Jill, Welcome to Python's Course\n",
      "\n",
      "Hope you enjoy the course.\n"
     ]
    }
   ],
   "source": [
    "list_name=['Tom','Jack','Jill']\n",
    "for name in list_name:\n",
    " print(name+ \", How are you..?\")\n",
    " print(name+ \", Welcome to Python's Course\\n\")\n",
    "print(\"Hope you enjoy the course.\")    "
   ]
  },
  {
   "cell_type": "markdown",
   "id": "2ac7b658",
   "metadata": {},
   "source": [
    "#### Error When working with for loops"
   ]
  },
  {
   "cell_type": "markdown",
   "id": "a640c190",
   "metadata": {},
   "source": [
    "#### Forgetting to indent"
   ]
  },
  {
   "cell_type": "code",
   "execution_count": 14,
   "id": "23a1a486",
   "metadata": {},
   "outputs": [
    {
     "ename": "IndentationError",
     "evalue": "expected an indented block (3804376440.py, line 3)",
     "output_type": "error",
     "traceback": [
      "\u001b[1;36m  File \u001b[1;32m\"C:\\Users\\Shivam Singh\\AppData\\Local\\Temp\\ipykernel_11924\\3804376440.py\"\u001b[1;36m, line \u001b[1;32m3\u001b[0m\n\u001b[1;33m    print(name+ \", How are you..?\")\u001b[0m\n\u001b[1;37m    ^\u001b[0m\n\u001b[1;31mIndentationError\u001b[0m\u001b[1;31m:\u001b[0m expected an indented block\n"
     ]
    }
   ],
   "source": [
    "list_name=['Tom','Jack','Jill']\n",
    "for name in list_name:\n",
    "print(name+ \", How are you..?\")\n"
   ]
  },
  {
   "cell_type": "markdown",
   "id": "4be23a82",
   "metadata": {},
   "source": [
    "#### Forgetting to Indent additional lines"
   ]
  },
  {
   "cell_type": "code",
   "execution_count": 15,
   "id": "2c6b47eb",
   "metadata": {},
   "outputs": [
    {
     "name": "stdout",
     "output_type": "stream",
     "text": [
      "Tom, How are you..?\n",
      "Jack, How are you..?\n",
      "Jill, How are you..?\n",
      "Jill, Welcome to Python's Course\n"
     ]
    }
   ],
   "source": [
    "list_name=['Tom','Jack','Jill']\n",
    "for name in list_name:\n",
    " print(name+ \", How are you..?\")\n",
    "print(name+ \", Welcome to Python's Course\")"
   ]
  },
  {
   "cell_type": "markdown",
   "id": "c63063eb",
   "metadata": {},
   "source": [
    "#### Unnecessarily Indenting"
   ]
  },
  {
   "cell_type": "code",
   "execution_count": 16,
   "id": "7b87d1a8",
   "metadata": {},
   "outputs": [
    {
     "ename": "IndentationError",
     "evalue": "unexpected indent (2756963016.py, line 2)",
     "output_type": "error",
     "traceback": [
      "\u001b[1;36m  File \u001b[1;32m\"C:\\Users\\Shivam Singh\\AppData\\Local\\Temp\\ipykernel_11924\\2756963016.py\"\u001b[1;36m, line \u001b[1;32m2\u001b[0m\n\u001b[1;33m    print(message)\u001b[0m\n\u001b[1;37m    ^\u001b[0m\n\u001b[1;31mIndentationError\u001b[0m\u001b[1;31m:\u001b[0m unexpected indent\n"
     ]
    }
   ],
   "source": [
    "message= \"Hello World\"\n",
    " print(message)"
   ]
  },
  {
   "cell_type": "markdown",
   "id": "eab5a1a3",
   "metadata": {},
   "source": [
    "#### Forgetting the Colon"
   ]
  },
  {
   "cell_type": "code",
   "execution_count": 17,
   "id": "f9e5feec",
   "metadata": {},
   "outputs": [
    {
     "ename": "SyntaxError",
     "evalue": "invalid syntax (1325181171.py, line 1)",
     "output_type": "error",
     "traceback": [
      "\u001b[1;36m  File \u001b[1;32m\"C:\\Users\\Shivam Singh\\AppData\\Local\\Temp\\ipykernel_11924\\1325181171.py\"\u001b[1;36m, line \u001b[1;32m1\u001b[0m\n\u001b[1;33m    |list_name=['Tom','Jack','Jill']\u001b[0m\n\u001b[1;37m    ^\u001b[0m\n\u001b[1;31mSyntaxError\u001b[0m\u001b[1;31m:\u001b[0m invalid syntax\n"
     ]
    }
   ],
   "source": [
    "|list_name=['Tom','Jack','Jill']\n",
    "for name in list_name\n",
    " print(name+ \", How are you..?\")\n",
    "print(name+ \", Welcome to Python's Course\")"
   ]
  },
  {
   "cell_type": "code",
   "execution_count": null,
   "id": "3e2bf974",
   "metadata": {},
   "outputs": [],
   "source": []
  }
 ],
 "metadata": {
  "kernelspec": {
   "display_name": "Python 3 (ipykernel)",
   "language": "python",
   "name": "python3"
  },
  "language_info": {
   "codemirror_mode": {
    "name": "ipython",
    "version": 3
   },
   "file_extension": ".py",
   "mimetype": "text/x-python",
   "name": "python",
   "nbconvert_exporter": "python",
   "pygments_lexer": "ipython3",
   "version": "3.9.13"
  }
 },
 "nbformat": 4,
 "nbformat_minor": 5
}
