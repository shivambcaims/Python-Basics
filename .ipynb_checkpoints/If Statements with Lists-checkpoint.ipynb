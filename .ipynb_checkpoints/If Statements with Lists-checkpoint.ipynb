{
 "cells": [
  {
   "cell_type": "markdown",
   "id": "ed22d39c",
   "metadata": {},
   "source": [
    "#### Checking for Special Items"
   ]
  },
  {
   "cell_type": "code",
   "execution_count": 4,
   "id": "b7baa6eb",
   "metadata": {},
   "outputs": [
    {
     "name": "stdout",
     "output_type": "stream",
     "text": [
      "Ferrari is available.\n",
      "Audi is available.\n",
      "BMW is available.\n",
      "Audi is available.\n",
      "Mercedes is available.\n",
      "Lamborghini is available.\n"
     ]
    }
   ],
   "source": [
    "cars= ['Ferrari','Audi','BMW','Audi','Mercedes','Lamborghini']\n",
    "for car in cars:\n",
    "    print (\"\"+car+\" is available.\")"
   ]
  },
  {
   "cell_type": "code",
   "execution_count": 6,
   "id": "6bce8105",
   "metadata": {},
   "outputs": [
    {
     "name": "stdout",
     "output_type": "stream",
     "text": [
      "Ferrari is available.\n",
      "Audi is available.\n",
      "BMW is not available.\n",
      "Audi is available.\n",
      "Mercedes is available.\n",
      "Lamborghini is available.\n"
     ]
    }
   ],
   "source": [
    "cars= ['Ferrari','Audi','BMW','Audi','Mercedes','Lamborghini']\n",
    "for car in cars:\n",
    "    if car=='BMW':\n",
    "        print(\"BMW is not available.\")\n",
    "    else:    \n",
    "        print (\"\"+car+\" is available.\")"
   ]
  },
  {
   "cell_type": "markdown",
   "id": "ff65f786",
   "metadata": {},
   "source": [
    "##### Check for List is Empty or Not"
   ]
  },
  {
   "cell_type": "code",
   "execution_count": 7,
   "id": "7265893d",
   "metadata": {},
   "outputs": [],
   "source": [
    "cars= []\n",
    "for car in cars:\n",
    "    if car=='BMW':\n",
    "        print(\"BMW is not available.\")\n",
    "    else:    \n",
    "        print (\"\"+car+\" is available.\")"
   ]
  },
  {
   "cell_type": "code",
   "execution_count": 8,
   "id": "3cf7ec7a",
   "metadata": {},
   "outputs": [
    {
     "name": "stdout",
     "output_type": "stream",
     "text": [
      "No cars are available\n"
     ]
    }
   ],
   "source": [
    "cars= []\n",
    "if cars: \n",
    "    for car in cars:\n",
    "        if car=='BMW':\n",
    "            print(\"BMW is not available.\")\n",
    "        else:    \n",
    "            print (\"\"+car+\" is available.\")\n",
    "else:\n",
    "    print(\"No cars are available\")"
   ]
  },
  {
   "cell_type": "code",
   "execution_count": 9,
   "id": "c0f3c99c",
   "metadata": {},
   "outputs": [
    {
     "name": "stdout",
     "output_type": "stream",
     "text": [
      "Toyota is available.\n"
     ]
    }
   ],
   "source": [
    "cars= ['Toyota']\n",
    "if cars: \n",
    "    for car in cars:\n",
    "        if car=='BMW':\n",
    "            print(\"BMW is not available.\")\n",
    "        else:    \n",
    "            print (\"\"+car+\" is available.\")\n",
    "else:\n",
    "    print(\"No cars are available\")"
   ]
  },
  {
   "cell_type": "markdown",
   "id": "eefa026d",
   "metadata": {},
   "source": [
    "#### Using Multiple Lists"
   ]
  },
  {
   "cell_type": "code",
   "execution_count": 12,
   "id": "34ae220e",
   "metadata": {},
   "outputs": [
    {
     "name": "stdout",
     "output_type": "stream",
     "text": [
      "Toyota is NOT available.\n",
      "Maruti is NOT available.\n",
      "Hunday is NOT available.\n"
     ]
    }
   ],
   "source": [
    "available_cars= ['Ferrari','Audi','BMW','Audi','Mercedes','Lamborghini']\n",
    "wish_cars= ['Toyota','Maruti','Hunday']\n",
    "for car in wish_cars:\n",
    "    if car in available_cars:\n",
    "        print(\"\"+car+ \" is available.\")\n",
    "    else:    \n",
    "        print(\"\"+car+ \" is NOT available.\")"
   ]
  },
  {
   "cell_type": "code",
   "execution_count": null,
   "id": "e7f681a8",
   "metadata": {},
   "outputs": [],
   "source": []
  }
 ],
 "metadata": {
  "kernelspec": {
   "display_name": "Python 3 (ipykernel)",
   "language": "python",
   "name": "python3"
  },
  "language_info": {
   "codemirror_mode": {
    "name": "ipython",
    "version": 3
   },
   "file_extension": ".py",
   "mimetype": "text/x-python",
   "name": "python",
   "nbconvert_exporter": "python",
   "pygments_lexer": "ipython3",
   "version": "3.9.13"
  }
 },
 "nbformat": 4,
 "nbformat_minor": 5
}
