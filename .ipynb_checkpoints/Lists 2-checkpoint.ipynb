{
 "cells": [
  {
   "cell_type": "markdown",
   "id": "9f4ef98b",
   "metadata": {},
   "source": [
    "## Organizing a List"
   ]
  },
  {
   "cell_type": "markdown",
   "id": "7a1f64d0",
   "metadata": {},
   "source": [
    "#### Sort() Method - Permanently"
   ]
  },
  {
   "cell_type": "code",
   "execution_count": 2,
   "id": "f14d1a25",
   "metadata": {},
   "outputs": [
    {
     "name": "stdout",
     "output_type": "stream",
     "text": [
      "['a', 'e', 'd', 'b', 'c']\n"
     ]
    }
   ],
   "source": [
    "letters=['a','e','d','b','c']\n",
    "print(letters)"
   ]
  },
  {
   "cell_type": "code",
   "execution_count": 3,
   "id": "2aa907c3",
   "metadata": {},
   "outputs": [],
   "source": [
    "letters.sort()"
   ]
  },
  {
   "cell_type": "code",
   "execution_count": 4,
   "id": "f0773c6e",
   "metadata": {},
   "outputs": [
    {
     "name": "stdout",
     "output_type": "stream",
     "text": [
      "['a', 'b', 'c', 'd', 'e']\n"
     ]
    }
   ],
   "source": [
    "print(letters)"
   ]
  },
  {
   "cell_type": "code",
   "execution_count": 5,
   "id": "c82f2dfb",
   "metadata": {},
   "outputs": [],
   "source": [
    "letters.sort(reverse=True)"
   ]
  },
  {
   "cell_type": "code",
   "execution_count": 6,
   "id": "539f66a5",
   "metadata": {},
   "outputs": [
    {
     "name": "stdout",
     "output_type": "stream",
     "text": [
      "['e', 'd', 'c', 'b', 'a']\n"
     ]
    }
   ],
   "source": [
    "print(letters)"
   ]
  },
  {
   "cell_type": "markdown",
   "id": "256050ef",
   "metadata": {},
   "source": [
    "## Sorted() Function - Temporary"
   ]
  },
  {
   "cell_type": "code",
   "execution_count": 7,
   "id": "5e2f56f0",
   "metadata": {},
   "outputs": [
    {
     "name": "stdout",
     "output_type": "stream",
     "text": [
      "['e', 'd', 'f', 'c', 'a', 'b', 'h', 'g']\n"
     ]
    }
   ],
   "source": [
    "letters = ['e','d','f','c','a','b','h','g']\n",
    "print(letters)"
   ]
  },
  {
   "cell_type": "code",
   "execution_count": 8,
   "id": "5b06f780",
   "metadata": {},
   "outputs": [
    {
     "data": {
      "text/plain": [
       "['a', 'b', 'c', 'd', 'e', 'f', 'g', 'h']"
      ]
     },
     "execution_count": 8,
     "metadata": {},
     "output_type": "execute_result"
    }
   ],
   "source": [
    "sorted(letters)"
   ]
  },
  {
   "cell_type": "code",
   "execution_count": 9,
   "id": "02ef3e7f",
   "metadata": {},
   "outputs": [
    {
     "data": {
      "text/plain": [
       "['h', 'g', 'f', 'e', 'd', 'c', 'b', 'a']"
      ]
     },
     "execution_count": 9,
     "metadata": {},
     "output_type": "execute_result"
    }
   ],
   "source": [
    "sorted(letters,reverse=True)"
   ]
  },
  {
   "cell_type": "code",
   "execution_count": 10,
   "id": "70a8c351",
   "metadata": {},
   "outputs": [
    {
     "name": "stdout",
     "output_type": "stream",
     "text": [
      "['e', 'd', 'f', 'c', 'a', 'b', 'h', 'g']\n"
     ]
    }
   ],
   "source": [
    "print(letters)"
   ]
  },
  {
   "cell_type": "markdown",
   "id": "493ef040",
   "metadata": {},
   "source": [
    "##### In case of Capital Letters"
   ]
  },
  {
   "cell_type": "code",
   "execution_count": 11,
   "id": "6d061841",
   "metadata": {},
   "outputs": [
    {
     "name": "stdout",
     "output_type": "stream",
     "text": [
      "['b', 'A', 'd', 'E', 'g', 'f', 'c']\n"
     ]
    }
   ],
   "source": [
    "letters = ['b','A','d','E','g','f','c']\n",
    "print(letters)"
   ]
  },
  {
   "cell_type": "code",
   "execution_count": 12,
   "id": "fc716156",
   "metadata": {},
   "outputs": [
    {
     "data": {
      "text/plain": [
       "['A', 'E', 'b', 'c', 'd', 'f', 'g']"
      ]
     },
     "execution_count": 12,
     "metadata": {},
     "output_type": "execute_result"
    }
   ],
   "source": [
    "sorted(letters)"
   ]
  },
  {
   "cell_type": "markdown",
   "id": "aa15e5e4",
   "metadata": {},
   "source": [
    "## Printing a list in Reverse Order"
   ]
  },
  {
   "cell_type": "code",
   "execution_count": 14,
   "id": "973b9565",
   "metadata": {},
   "outputs": [
    {
     "name": "stdout",
     "output_type": "stream",
     "text": [
      "['audi', 'bmw', 'maruti', 'tata', 'hyundai']\n"
     ]
    }
   ],
   "source": [
    "cars=['audi','bmw','maruti','tata','hyundai']\n",
    "print(cars)"
   ]
  },
  {
   "cell_type": "code",
   "execution_count": 17,
   "id": "e77ed176",
   "metadata": {},
   "outputs": [
    {
     "name": "stdout",
     "output_type": "stream",
     "text": [
      "['hyundai', 'tata', 'maruti', 'bmw', 'audi']\n"
     ]
    }
   ],
   "source": [
    "cars.reverse()\n",
    "print(cars)"
   ]
  },
  {
   "cell_type": "markdown",
   "id": "0099225a",
   "metadata": {},
   "source": [
    "### Find Length of List"
   ]
  },
  {
   "cell_type": "code",
   "execution_count": 20,
   "id": "08e4a533",
   "metadata": {},
   "outputs": [
    {
     "data": {
      "text/plain": [
       "5"
      ]
     },
     "execution_count": 20,
     "metadata": {},
     "output_type": "execute_result"
    }
   ],
   "source": [
    "len(cars)"
   ]
  },
  {
   "cell_type": "markdown",
   "id": "3f7d982a",
   "metadata": {},
   "source": [
    "### Avoiding Index Errors with Lists"
   ]
  },
  {
   "cell_type": "code",
   "execution_count": 21,
   "id": "2077814a",
   "metadata": {},
   "outputs": [
    {
     "ename": "IndexError",
     "evalue": "list index out of range",
     "output_type": "error",
     "traceback": [
      "\u001b[1;31m---------------------------------------------------------------------------\u001b[0m",
      "\u001b[1;31mIndexError\u001b[0m                                Traceback (most recent call last)",
      "\u001b[1;32m~\\AppData\\Local\\Temp\\ipykernel_1748\\2930567352.py\u001b[0m in \u001b[0;36m<module>\u001b[1;34m\u001b[0m\n\u001b[0;32m      1\u001b[0m \u001b[0mcars\u001b[0m\u001b[1;33m=\u001b[0m\u001b[1;33m[\u001b[0m\u001b[1;34m'audi'\u001b[0m\u001b[1;33m,\u001b[0m\u001b[1;34m'bmw'\u001b[0m\u001b[1;33m,\u001b[0m\u001b[1;34m'maruti'\u001b[0m\u001b[1;33m,\u001b[0m\u001b[1;34m'tata'\u001b[0m\u001b[1;33m,\u001b[0m\u001b[1;34m'hyundai'\u001b[0m\u001b[1;33m]\u001b[0m\u001b[1;33m\u001b[0m\u001b[1;33m\u001b[0m\u001b[0m\n\u001b[1;32m----> 2\u001b[1;33m \u001b[0mprint\u001b[0m\u001b[1;33m(\u001b[0m\u001b[0mcars\u001b[0m\u001b[1;33m[\u001b[0m\u001b[1;36m5\u001b[0m\u001b[1;33m]\u001b[0m\u001b[1;33m)\u001b[0m\u001b[1;33m\u001b[0m\u001b[1;33m\u001b[0m\u001b[0m\n\u001b[0m",
      "\u001b[1;31mIndexError\u001b[0m: list index out of range"
     ]
    }
   ],
   "source": [
    "cars=['audi','bmw','maruti','tata','hyundai']\n",
    "print(cars[5])"
   ]
  },
  {
   "cell_type": "code",
   "execution_count": 22,
   "id": "a7a4323d",
   "metadata": {},
   "outputs": [
    {
     "name": "stdout",
     "output_type": "stream",
     "text": [
      "hyundai\n"
     ]
    }
   ],
   "source": [
    "print(cars[-1])"
   ]
  },
  {
   "cell_type": "code",
   "execution_count": 23,
   "id": "467b969b",
   "metadata": {},
   "outputs": [
    {
     "name": "stdout",
     "output_type": "stream",
     "text": [
      "[]\n"
     ]
    }
   ],
   "source": [
    "cars=[]\n",
    "print(cars)"
   ]
  },
  {
   "cell_type": "code",
   "execution_count": 24,
   "id": "c1f936e0",
   "metadata": {},
   "outputs": [
    {
     "ename": "IndexError",
     "evalue": "list index out of range",
     "output_type": "error",
     "traceback": [
      "\u001b[1;31m---------------------------------------------------------------------------\u001b[0m",
      "\u001b[1;31mIndexError\u001b[0m                                Traceback (most recent call last)",
      "\u001b[1;32m~\\AppData\\Local\\Temp\\ipykernel_1748\\1479350486.py\u001b[0m in \u001b[0;36m<module>\u001b[1;34m\u001b[0m\n\u001b[1;32m----> 1\u001b[1;33m \u001b[0mprint\u001b[0m\u001b[1;33m(\u001b[0m\u001b[0mcars\u001b[0m\u001b[1;33m[\u001b[0m\u001b[1;33m-\u001b[0m\u001b[1;36m1\u001b[0m\u001b[1;33m]\u001b[0m\u001b[1;33m)\u001b[0m\u001b[1;33m\u001b[0m\u001b[1;33m\u001b[0m\u001b[0m\n\u001b[0m",
      "\u001b[1;31mIndexError\u001b[0m: list index out of range"
     ]
    }
   ],
   "source": [
    "print(cars[-1])"
   ]
  },
  {
   "cell_type": "markdown",
   "id": "b16f434c",
   "metadata": {},
   "source": [
    "#### Looping through Slice"
   ]
  },
  {
   "cell_type": "code",
   "execution_count": 6,
   "id": "bfc94dab",
   "metadata": {},
   "outputs": [
    {
     "name": "stdout",
     "output_type": "stream",
     "text": [
      "First Three Cars:\n",
      "Ferrai\n",
      "BMW\n",
      "Audi\n"
     ]
    }
   ],
   "source": [
    "cars=['Ferrai', 'BMW', 'Audi', 'Maruti', 'Lamborghini']\n",
    "print(\"First Three Cars:\")\n",
    "for first_three in cars [:3]:\n",
    " print(first_three)"
   ]
  },
  {
   "cell_type": "markdown",
   "id": "9a325ccc",
   "metadata": {},
   "source": [
    "#### Copying a List"
   ]
  },
  {
   "cell_type": "code",
   "execution_count": 7,
   "id": "6918d70e",
   "metadata": {},
   "outputs": [
    {
     "name": "stdout",
     "output_type": "stream",
     "text": [
      "['Ferrai', 'BMW', 'Audi', 'Maruti', 'Lamborghini']\n"
     ]
    }
   ],
   "source": [
    "cars=['Ferrai', 'BMW', 'Audi', 'Maruti', 'Lamborghini']\n",
    "new_cars=cars[:]\n",
    "print(new_cars)"
   ]
  },
  {
   "cell_type": "code",
   "execution_count": 10,
   "id": "d7a7452e",
   "metadata": {},
   "outputs": [
    {
     "name": "stdout",
     "output_type": "stream",
     "text": [
      "['Ferrai', 'BMW', 'Audi', 'Maruti', 'Lamborghini', 'Toyota']\n"
     ]
    }
   ],
   "source": [
    "cars.append('Toyota')\n",
    "print(cars)"
   ]
  },
  {
   "cell_type": "code",
   "execution_count": 11,
   "id": "0c398645",
   "metadata": {},
   "outputs": [
    {
     "name": "stdout",
     "output_type": "stream",
     "text": [
      "['Ferrai', 'BMW', 'Audi', 'Maruti', 'Lamborghini', 'Verna']\n"
     ]
    }
   ],
   "source": [
    "new_cars.append('Verna')\n",
    "print(new_cars)"
   ]
  },
  {
   "cell_type": "code",
   "execution_count": null,
   "id": "7ce09968",
   "metadata": {},
   "outputs": [],
   "source": []
  }
 ],
 "metadata": {
  "kernelspec": {
   "display_name": "Python 3 (ipykernel)",
   "language": "python",
   "name": "python3"
  },
  "language_info": {
   "codemirror_mode": {
    "name": "ipython",
    "version": 3
   },
   "file_extension": ".py",
   "mimetype": "text/x-python",
   "name": "python",
   "nbconvert_exporter": "python",
   "pygments_lexer": "ipython3",
   "version": "3.9.13"
  }
 },
 "nbformat": 4,
 "nbformat_minor": 5
}
