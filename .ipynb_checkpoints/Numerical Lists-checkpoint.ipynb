{
 "cells": [
  {
   "cell_type": "markdown",
   "id": "412e671f",
   "metadata": {},
   "source": [
    "## Numerical Lists"
   ]
  },
  {
   "cell_type": "markdown",
   "id": "17a6b0df",
   "metadata": {},
   "source": [
    "#### Range() Function"
   ]
  },
  {
   "cell_type": "code",
   "execution_count": 1,
   "id": "30450c7a",
   "metadata": {},
   "outputs": [
    {
     "name": "stdout",
     "output_type": "stream",
     "text": [
      "1\n",
      "2\n",
      "3\n",
      "4\n"
     ]
    }
   ],
   "source": [
    "for value in range (1,5):\n",
    "    print(value)"
   ]
  },
  {
   "cell_type": "markdown",
   "id": "4e7226d1",
   "metadata": {},
   "source": [
    "#### Range() to make list of numbers"
   ]
  },
  {
   "cell_type": "code",
   "execution_count": 2,
   "id": "116ca929",
   "metadata": {},
   "outputs": [
    {
     "name": "stdout",
     "output_type": "stream",
     "text": [
      "[1, 2, 3, 4, 5]\n"
     ]
    }
   ],
   "source": [
    "numbers=list(range(1,6))\n",
    "print(numbers)"
   ]
  },
  {
   "cell_type": "code",
   "execution_count": 3,
   "id": "42b3caba",
   "metadata": {},
   "outputs": [
    {
     "name": "stdout",
     "output_type": "stream",
     "text": [
      "[1, 2, 3, 4, 5, 6, 7, 8, 9, 10, 11, 12, 13, 14]\n"
     ]
    }
   ],
   "source": [
    "numbers=list(range(1,15))\n",
    "print(numbers)"
   ]
  },
  {
   "cell_type": "markdown",
   "id": "5915c308",
   "metadata": {},
   "source": [
    "#### To Skip Numbers"
   ]
  },
  {
   "cell_type": "code",
   "execution_count": 4,
   "id": "03ee3515",
   "metadata": {},
   "outputs": [
    {
     "name": "stdout",
     "output_type": "stream",
     "text": [
      "[1, 3, 5, 7, 9, 11, 13]\n"
     ]
    }
   ],
   "source": [
    "numbers=list(range(1,15,2))\n",
    "print(numbers)"
   ]
  },
  {
   "cell_type": "code",
   "execution_count": 6,
   "id": "45485ce1",
   "metadata": {},
   "outputs": [
    {
     "name": "stdout",
     "output_type": "stream",
     "text": [
      "[2, 4, 6, 8, 10, 12, 14]\n"
     ]
    }
   ],
   "source": [
    "odd_numbers=list(range(2,15,2))\n",
    "print(odd_numbers)"
   ]
  },
  {
   "cell_type": "markdown",
   "id": "fc6f9a10",
   "metadata": {},
   "source": [
    "#### Exponants\\Square"
   ]
  },
  {
   "cell_type": "code",
   "execution_count": 7,
   "id": "435e7431",
   "metadata": {},
   "outputs": [
    {
     "name": "stdout",
     "output_type": "stream",
     "text": [
      "9\n"
     ]
    }
   ],
   "source": [
    "value=3**2\n",
    "print(value)"
   ]
  },
  {
   "cell_type": "code",
   "execution_count": 8,
   "id": "0bbd7394",
   "metadata": {},
   "outputs": [
    {
     "name": "stdout",
     "output_type": "stream",
     "text": [
      "1\n",
      "4\n",
      "9\n",
      "16\n",
      "25\n",
      "36\n",
      "49\n",
      "64\n",
      "81\n",
      "100\n"
     ]
    }
   ],
   "source": [
    "for num in range(1,11):\n",
    "    value=num**2\n",
    "    print(value)"
   ]
  },
  {
   "cell_type": "markdown",
   "id": "822c2a82",
   "metadata": {},
   "source": [
    "#### Now, to arrange in list"
   ]
  },
  {
   "cell_type": "code",
   "execution_count": 11,
   "id": "9b21c3b6",
   "metadata": {},
   "outputs": [
    {
     "name": "stdout",
     "output_type": "stream",
     "text": [
      "[1, 4, 9, 16, 25, 36, 49, 64, 81, 100]\n"
     ]
    }
   ],
   "source": [
    "sq=[]\n",
    "for num in range(1,11):\n",
    "    value=num**2\n",
    "    sq.append(value)\n",
    "print(sq)"
   ]
  },
  {
   "cell_type": "markdown",
   "id": "2cab95b3",
   "metadata": {},
   "source": [
    "## Statistics with List of Numbers"
   ]
  },
  {
   "cell_type": "code",
   "execution_count": 12,
   "id": "35ebe86c",
   "metadata": {},
   "outputs": [
    {
     "name": "stdout",
     "output_type": "stream",
     "text": [
      "[1, 4, 9, 16, 25, 36, 49, 64, 81, 100]\n"
     ]
    }
   ],
   "source": [
    "print(sq)"
   ]
  },
  {
   "cell_type": "code",
   "execution_count": 13,
   "id": "23e07cb4",
   "metadata": {},
   "outputs": [
    {
     "data": {
      "text/plain": [
       "1"
      ]
     },
     "execution_count": 13,
     "metadata": {},
     "output_type": "execute_result"
    }
   ],
   "source": [
    "min(sq)"
   ]
  },
  {
   "cell_type": "code",
   "execution_count": 14,
   "id": "bbd12314",
   "metadata": {},
   "outputs": [
    {
     "data": {
      "text/plain": [
       "100"
      ]
     },
     "execution_count": 14,
     "metadata": {},
     "output_type": "execute_result"
    }
   ],
   "source": [
    "max(sq)"
   ]
  },
  {
   "cell_type": "code",
   "execution_count": 15,
   "id": "22633c98",
   "metadata": {},
   "outputs": [
    {
     "data": {
      "text/plain": [
       "385"
      ]
     },
     "execution_count": 15,
     "metadata": {},
     "output_type": "execute_result"
    }
   ],
   "source": [
    "sum(sq)"
   ]
  },
  {
   "cell_type": "code",
   "execution_count": 17,
   "id": "5add3543",
   "metadata": {},
   "outputs": [],
   "source": [
    "sq.append(0)\n",
    "sq.append(100)\n",
    "sq.append(101)\n",
    "sq.append(1)"
   ]
  },
  {
   "cell_type": "code",
   "execution_count": 25,
   "id": "a575e3ee",
   "metadata": {},
   "outputs": [
    {
     "name": "stdout",
     "output_type": "stream",
     "text": [
      "[1, 4, 9, 16, 25, 36, 49, 64, 81, 100, 0, 100, 101, 1, 0, 100, 101, 1, 101]\n"
     ]
    }
   ],
   "source": [
    "print(sq)"
   ]
  },
  {
   "cell_type": "code",
   "execution_count": 19,
   "id": "37a41ae6",
   "metadata": {},
   "outputs": [
    {
     "data": {
      "text/plain": [
       "0"
      ]
     },
     "execution_count": 19,
     "metadata": {},
     "output_type": "execute_result"
    }
   ],
   "source": [
    "min(sq)"
   ]
  },
  {
   "cell_type": "code",
   "execution_count": 20,
   "id": "b5093b1b",
   "metadata": {},
   "outputs": [
    {
     "data": {
      "text/plain": [
       "101"
      ]
     },
     "execution_count": 20,
     "metadata": {},
     "output_type": "execute_result"
    }
   ],
   "source": [
    "max(sq)"
   ]
  },
  {
   "cell_type": "code",
   "execution_count": 21,
   "id": "3e570928",
   "metadata": {},
   "outputs": [
    {
     "data": {
      "text/plain": [
       "789"
      ]
     },
     "execution_count": 21,
     "metadata": {},
     "output_type": "execute_result"
    }
   ],
   "source": [
    "sum(sq)"
   ]
  },
  {
   "cell_type": "code",
   "execution_count": 22,
   "id": "f2825eb3",
   "metadata": {},
   "outputs": [],
   "source": [
    "sq.append(101)"
   ]
  },
  {
   "cell_type": "code",
   "execution_count": 23,
   "id": "ebd6e4fd",
   "metadata": {},
   "outputs": [
    {
     "name": "stdout",
     "output_type": "stream",
     "text": [
      "[1, 4, 9, 16, 25, 36, 49, 64, 81, 100, 0, 100, 101, 1, 0, 100, 101, 1, 101]\n"
     ]
    }
   ],
   "source": [
    "print(sq)"
   ]
  },
  {
   "cell_type": "code",
   "execution_count": 24,
   "id": "a065d7b5",
   "metadata": {},
   "outputs": [
    {
     "data": {
      "text/plain": [
       "101"
      ]
     },
     "execution_count": 24,
     "metadata": {},
     "output_type": "execute_result"
    }
   ],
   "source": [
    "max(sq)"
   ]
  },
  {
   "cell_type": "markdown",
   "id": "a701b8de",
   "metadata": {},
   "source": [
    "## List Comprehensions"
   ]
  },
  {
   "cell_type": "code",
   "execution_count": 26,
   "id": "01b0d62b",
   "metadata": {},
   "outputs": [
    {
     "name": "stdout",
     "output_type": "stream",
     "text": [
      "[1, 4, 9, 16, 25, 36, 49, 64, 81, 100]\n"
     ]
    }
   ],
   "source": [
    "sq=[]\n",
    "for num in range(1,11):\n",
    "    value=num**2\n",
    "    sq.append(value)\n",
    "print(sq)"
   ]
  },
  {
   "cell_type": "code",
   "execution_count": 27,
   "id": "37608b0f",
   "metadata": {},
   "outputs": [
    {
     "name": "stdout",
     "output_type": "stream",
     "text": [
      "[1, 4, 9, 16, 25, 36, 49, 64, 81, 100]\n"
     ]
    }
   ],
   "source": [
    "sq=[value**2 for value in range(1,11)]\n",
    "print(sq)\n"
   ]
  },
  {
   "cell_type": "markdown",
   "id": "7f53c7e9",
   "metadata": {},
   "source": [
    "## Working with Part of List"
   ]
  },
  {
   "cell_type": "markdown",
   "id": "98b86926",
   "metadata": {},
   "source": [
    "#### Slicing a List"
   ]
  },
  {
   "cell_type": "code",
   "execution_count": 28,
   "id": "ee0f76aa",
   "metadata": {},
   "outputs": [
    {
     "name": "stdout",
     "output_type": "stream",
     "text": [
      "['ferrari', 'bmw', 'audi']\n"
     ]
    }
   ],
   "source": [
    "cars=['ferrari', 'bmw', 'audi','mercedes', 'lamborghini']\n",
    "print(cars[0:3])"
   ]
  },
  {
   "cell_type": "code",
   "execution_count": 30,
   "id": "5d718c28",
   "metadata": {},
   "outputs": [
    {
     "name": "stdout",
     "output_type": "stream",
     "text": [
      "['bmw', 'audi', 'mercedes']\n"
     ]
    }
   ],
   "source": [
    "cars=['ferrari', 'bmw', 'audi','mercedes', 'lamborghini']\n",
    "print(cars[1:4])"
   ]
  },
  {
   "cell_type": "code",
   "execution_count": 31,
   "id": "0566550b",
   "metadata": {},
   "outputs": [
    {
     "name": "stdout",
     "output_type": "stream",
     "text": [
      "['ferrari', 'bmw', 'audi', 'mercedes']\n"
     ]
    }
   ],
   "source": [
    "cars=['ferrari', 'bmw', 'audi','mercedes', 'lamborghini']\n",
    "print(cars[:4])"
   ]
  },
  {
   "cell_type": "code",
   "execution_count": 32,
   "id": "62875c5d",
   "metadata": {},
   "outputs": [
    {
     "name": "stdout",
     "output_type": "stream",
     "text": [
      "['bmw', 'audi', 'mercedes', 'lamborghini']\n"
     ]
    }
   ],
   "source": [
    "cars=['ferrari', 'bmw', 'audi','mercedes', 'lamborghini']\n",
    "print(cars[1:])"
   ]
  },
  {
   "cell_type": "code",
   "execution_count": 33,
   "id": "3add5d2c",
   "metadata": {},
   "outputs": [
    {
     "name": "stdout",
     "output_type": "stream",
     "text": [
      "['audi', 'mercedes', 'lamborghini']\n"
     ]
    }
   ],
   "source": [
    "cars=['ferrari', 'bmw', 'audi','mercedes', 'lamborghini']\n",
    "print(cars[-3:])"
   ]
  },
  {
   "cell_type": "code",
   "execution_count": null,
   "id": "c8a3ed14",
   "metadata": {},
   "outputs": [],
   "source": []
  }
 ],
 "metadata": {
  "kernelspec": {
   "display_name": "Python 3 (ipykernel)",
   "language": "python",
   "name": "python3"
  },
  "language_info": {
   "codemirror_mode": {
    "name": "ipython",
    "version": 3
   },
   "file_extension": ".py",
   "mimetype": "text/x-python",
   "name": "python",
   "nbconvert_exporter": "python",
   "pygments_lexer": "ipython3",
   "version": "3.9.13"
  }
 },
 "nbformat": 4,
 "nbformat_minor": 5
}
