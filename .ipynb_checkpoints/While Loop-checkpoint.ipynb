{
 "cells": [
  {
   "cell_type": "markdown",
   "id": "23a390b9",
   "metadata": {},
   "source": [
    "###### While Loops"
   ]
  },
  {
   "cell_type": "code",
   "execution_count": 1,
   "id": "a28724da",
   "metadata": {},
   "outputs": [
    {
     "name": "stdout",
     "output_type": "stream",
     "text": [
      "1\n",
      "2\n",
      "3\n",
      "4\n",
      "5\n"
     ]
    }
   ],
   "source": [
    "number=1\n",
    "while number <=5:\n",
    "    print(number)\n",
    "    number= number+1"
   ]
  },
  {
   "cell_type": "markdown",
   "id": "8721fa24",
   "metadata": {},
   "source": [
    "###### Allow user to Quit"
   ]
  },
  {
   "cell_type": "code",
   "execution_count": 6,
   "id": "fe66b659",
   "metadata": {},
   "outputs": [
    {
     "name": "stdout",
     "output_type": "stream",
     "text": [
      "This is a parrot program \n",
      "Enter 'end' to quit programThis is me Sivam Singh\n",
      "This is me Sivam Singh\n",
      "This is a parrot program \n",
      "Enter 'end' to quit programwnd\n",
      "wnd\n",
      "This is a parrot program \n",
      "Enter 'end' to quit programend\n",
      "end\n"
     ]
    }
   ],
   "source": [
    "text=\"This is a parrot program \\n\"\n",
    "text= text+\"Enter 'end' to quit program\"\n",
    "msg=\"\"\n",
    "while msg!='end':\n",
    "    msg = input(text)\n",
    "    print(msg)"
   ]
  },
  {
   "cell_type": "code",
   "execution_count": null,
   "id": "47270175",
   "metadata": {},
   "outputs": [],
   "source": []
  }
 ],
 "metadata": {
  "kernelspec": {
   "display_name": "Python 3 (ipykernel)",
   "language": "python",
   "name": "python3"
  },
  "language_info": {
   "codemirror_mode": {
    "name": "ipython",
    "version": 3
   },
   "file_extension": ".py",
   "mimetype": "text/x-python",
   "name": "python",
   "nbconvert_exporter": "python",
   "pygments_lexer": "ipython3",
   "version": "3.9.13"
  }
 },
 "nbformat": 4,
 "nbformat_minor": 5
}
