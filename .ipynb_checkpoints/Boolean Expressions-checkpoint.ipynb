{
 "cells": [
  {
   "cell_type": "code",
   "execution_count": 1,
   "id": "08a68b8b",
   "metadata": {},
   "outputs": [
    {
     "name": "stdout",
     "output_type": "stream",
     "text": [
      "Welcome to car's Club\n"
     ]
    }
   ],
   "source": [
    "have_car=True\n",
    "if have_car==True:\n",
    "    print(\"Welcome to car's Club\")"
   ]
  },
  {
   "cell_type": "code",
   "execution_count": 2,
   "id": "31f3e553",
   "metadata": {},
   "outputs": [],
   "source": [
    "have_car=False\n",
    "if have_car==True:\n",
    "    print(\"Welcome to car's Club\")"
   ]
  },
  {
   "cell_type": "code",
   "execution_count": 5,
   "id": "41d5fb10",
   "metadata": {},
   "outputs": [
    {
     "name": "stdout",
     "output_type": "stream",
     "text": [
      "Welcome to car's Club\n"
     ]
    }
   ],
   "source": [
    "have_car=True\n",
    "if (have_car):\n",
    "    print(\"Welcome to car's Club\")"
   ]
  },
  {
   "cell_type": "code",
   "execution_count": 6,
   "id": "5fee0792",
   "metadata": {},
   "outputs": [
    {
     "name": "stdout",
     "output_type": "stream",
     "text": [
      "Welcome to car's Club\n"
     ]
    }
   ],
   "source": [
    "have_car=True\n",
    "if (True):\n",
    "    print(\"Welcome to car's Club\")"
   ]
  },
  {
   "cell_type": "code",
   "execution_count": null,
   "id": "b717150b",
   "metadata": {},
   "outputs": [],
   "source": []
  }
 ],
 "metadata": {
  "kernelspec": {
   "display_name": "Python 3 (ipykernel)",
   "language": "python",
   "name": "python3"
  },
  "language_info": {
   "codemirror_mode": {
    "name": "ipython",
    "version": 3
   },
   "file_extension": ".py",
   "mimetype": "text/x-python",
   "name": "python",
   "nbconvert_exporter": "python",
   "pygments_lexer": "ipython3",
   "version": "3.9.13"
  }
 },
 "nbformat": 4,
 "nbformat_minor": 5
}
