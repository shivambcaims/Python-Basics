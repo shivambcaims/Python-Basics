{
 "cells": [
  {
   "cell_type": "markdown",
   "id": "64ff3a9f",
   "metadata": {},
   "source": [
    "### IF Statements"
   ]
  },
  {
   "cell_type": "markdown",
   "id": "8cd6a687",
   "metadata": {},
   "source": [
    "##### Simple Example"
   ]
  },
  {
   "cell_type": "code",
   "execution_count": 2,
   "id": "444fd4ed",
   "metadata": {},
   "outputs": [
    {
     "name": "stdout",
     "output_type": "stream",
     "text": [
      "Ferrari\n",
      "Bmw\n",
      "AUDI\n",
      "Mercedes\n",
      "Lamborghini\n"
     ]
    }
   ],
   "source": [
    "cars= ['ferrari','bmw','audi','mercedes','lamborghini']\n",
    "for car in cars:\n",
    "    if car == 'audi':\n",
    "        print (car.upper())\n",
    "    else:\n",
    "        print (car.title())"
   ]
  },
  {
   "cell_type": "markdown",
   "id": "f2df4edb",
   "metadata": {},
   "source": [
    "#### Cases when Checking for Equality"
   ]
  },
  {
   "cell_type": "code",
   "execution_count": 3,
   "id": "2d48e86b",
   "metadata": {},
   "outputs": [
    {
     "name": "stdout",
     "output_type": "stream",
     "text": [
      "Ferrari\n",
      "Bmw\n",
      "Audi\n",
      "Mercedes\n",
      "Lamborghini\n"
     ]
    }
   ],
   "source": [
    "cars= ['ferrari','bmw','audi','mercedes','lamborghini']\n",
    "for car in cars:\n",
    "    if car == 'Audi':\n",
    "        print (car.upper())\n",
    "    else:\n",
    "        print (car.title())"
   ]
  },
  {
   "cell_type": "markdown",
   "id": "f40fe84d",
   "metadata": {},
   "source": [
    "##### To check it by temporay changing Case"
   ]
  },
  {
   "cell_type": "code",
   "execution_count": 7,
   "id": "07684823",
   "metadata": {},
   "outputs": [],
   "source": [
    "name='Shivam'\n",
    "if name == 'shivam':\n",
    " print(\"Matched\")"
   ]
  },
  {
   "cell_type": "code",
   "execution_count": 9,
   "id": "9d1ce831",
   "metadata": {},
   "outputs": [
    {
     "name": "stdout",
     "output_type": "stream",
     "text": [
      "Matched\n"
     ]
    }
   ],
   "source": [
    "name='Shivam'\n",
    "if name.lower() == 'shivam':\n",
    " print(\"Matched\")"
   ]
  },
  {
   "cell_type": "code",
   "execution_count": 10,
   "id": "2f211d04",
   "metadata": {},
   "outputs": [
    {
     "name": "stdout",
     "output_type": "stream",
     "text": [
      "Shivam\n"
     ]
    }
   ],
   "source": [
    "print(name)"
   ]
  },
  {
   "cell_type": "markdown",
   "id": "d6893bc4",
   "metadata": {},
   "source": [
    "### Checking for Inequality (!=) #is not equal to"
   ]
  },
  {
   "cell_type": "code",
   "execution_count": 18,
   "id": "61292fe7",
   "metadata": {},
   "outputs": [
    {
     "name": "stdout",
     "output_type": "stream",
     "text": [
      "Do not match\n"
     ]
    }
   ],
   "source": [
    "name='Jack'\n",
    "if name!= 'Jill':\n",
    "        print(\"Do not match\")"
   ]
  },
  {
   "cell_type": "code",
   "execution_count": 19,
   "id": "7fda59ac",
   "metadata": {},
   "outputs": [],
   "source": [
    "name='Jack'\n",
    "if name== 'Jill':\n",
    "        print(\"Do not match\")"
   ]
  },
  {
   "cell_type": "markdown",
   "id": "4fde3044",
   "metadata": {},
   "source": [
    "#### 50.50 Numerical Comparisons"
   ]
  },
  {
   "cell_type": "code",
   "execution_count": 1,
   "id": "6a7f7b62",
   "metadata": {},
   "outputs": [
    {
     "name": "stdout",
     "output_type": "stream",
     "text": [
      "Match\n"
     ]
    }
   ],
   "source": [
    "age=29\n",
    "if age==29:\n",
    "    print(\"Match\")"
   ]
  },
  {
   "cell_type": "code",
   "execution_count": 2,
   "id": "380790a9",
   "metadata": {},
   "outputs": [
    {
     "name": "stdout",
     "output_type": "stream",
     "text": [
      "Do not match\n"
     ]
    }
   ],
   "source": [
    "age=29\n",
    "if age!=28:\n",
    "    print(\"Do not match\")"
   ]
  },
  {
   "cell_type": "code",
   "execution_count": 3,
   "id": "e7bdb3b6",
   "metadata": {},
   "outputs": [
    {
     "data": {
      "text/plain": [
       "False"
      ]
     },
     "execution_count": 3,
     "metadata": {},
     "output_type": "execute_result"
    }
   ],
   "source": [
    "age=29\n",
    "age<20"
   ]
  },
  {
   "cell_type": "code",
   "execution_count": 4,
   "id": "18c395fe",
   "metadata": {},
   "outputs": [
    {
     "data": {
      "text/plain": [
       "False"
      ]
     },
     "execution_count": 4,
     "metadata": {},
     "output_type": "execute_result"
    }
   ],
   "source": [
    "age<=20"
   ]
  },
  {
   "cell_type": "code",
   "execution_count": 5,
   "id": "eb7ddd08",
   "metadata": {},
   "outputs": [
    {
     "data": {
      "text/plain": [
       "True"
      ]
     },
     "execution_count": 5,
     "metadata": {},
     "output_type": "execute_result"
    }
   ],
   "source": [
    "age>20"
   ]
  },
  {
   "cell_type": "code",
   "execution_count": 6,
   "id": "a42bd1c5",
   "metadata": {},
   "outputs": [
    {
     "data": {
      "text/plain": [
       "True"
      ]
     },
     "execution_count": 6,
     "metadata": {},
     "output_type": "execute_result"
    }
   ],
   "source": [
    "age>=20"
   ]
  },
  {
   "cell_type": "code",
   "execution_count": 7,
   "id": "005a325f",
   "metadata": {},
   "outputs": [
    {
     "data": {
      "text/plain": [
       "True"
      ]
     },
     "execution_count": 7,
     "metadata": {},
     "output_type": "execute_result"
    }
   ],
   "source": [
    "age=20\n",
    "age>=20"
   ]
  },
  {
   "cell_type": "markdown",
   "id": "fbf23cc0",
   "metadata": {},
   "source": [
    "#### Multiple Condition"
   ]
  },
  {
   "cell_type": "markdown",
   "id": "6b1ff22a",
   "metadata": {},
   "source": [
    "###### 'and' for multiple condition"
   ]
  },
  {
   "cell_type": "code",
   "execution_count": 9,
   "id": "a2dec899",
   "metadata": {},
   "outputs": [
    {
     "data": {
      "text/plain": [
       "False"
      ]
     },
     "execution_count": 9,
     "metadata": {},
     "output_type": "execute_result"
    }
   ],
   "source": [
    "my_age=29\n",
    "your_age=20\n",
    "my_age>=21 and your_age>=21"
   ]
  },
  {
   "cell_type": "code",
   "execution_count": 11,
   "id": "a34a6e8c",
   "metadata": {},
   "outputs": [
    {
     "data": {
      "text/plain": [
       "True"
      ]
     },
     "execution_count": 11,
     "metadata": {},
     "output_type": "execute_result"
    }
   ],
   "source": [
    "my_age=29\n",
    "your_age=21\n",
    "my_age>=21 and your_age>=21"
   ]
  },
  {
   "cell_type": "markdown",
   "id": "9870850b",
   "metadata": {},
   "source": [
    "##### \"or\" for multiple conditions"
   ]
  },
  {
   "cell_type": "code",
   "execution_count": 12,
   "id": "3e3b4d55",
   "metadata": {},
   "outputs": [
    {
     "data": {
      "text/plain": [
       "True"
      ]
     },
     "execution_count": 12,
     "metadata": {},
     "output_type": "execute_result"
    }
   ],
   "source": [
    "my_age=29\n",
    "your_age=21\n",
    "my_age>=21 or your_age>=21"
   ]
  },
  {
   "cell_type": "code",
   "execution_count": 13,
   "id": "8e825231",
   "metadata": {},
   "outputs": [
    {
     "data": {
      "text/plain": [
       "True"
      ]
     },
     "execution_count": 13,
     "metadata": {},
     "output_type": "execute_result"
    }
   ],
   "source": [
    "my_age=29\n",
    "your_age=20\n",
    "my_age>=21 or your_age>=21"
   ]
  },
  {
   "cell_type": "code",
   "execution_count": 15,
   "id": "da69d99f",
   "metadata": {},
   "outputs": [
    {
     "data": {
      "text/plain": [
       "False"
      ]
     },
     "execution_count": 15,
     "metadata": {},
     "output_type": "execute_result"
    }
   ],
   "source": [
    "my_age=19\n",
    "your_age=20\n",
    "my_age>=21 or your_age>=21"
   ]
  },
  {
   "cell_type": "code",
   "execution_count": null,
   "id": "16d83f4c",
   "metadata": {},
   "outputs": [],
   "source": []
  }
 ],
 "metadata": {
  "kernelspec": {
   "display_name": "Python 3 (ipykernel)",
   "language": "python",
   "name": "python3"
  },
  "language_info": {
   "codemirror_mode": {
    "name": "ipython",
    "version": 3
   },
   "file_extension": ".py",
   "mimetype": "text/x-python",
   "name": "python",
   "nbconvert_exporter": "python",
   "pygments_lexer": "ipython3",
   "version": "3.9.13"
  }
 },
 "nbformat": 4,
 "nbformat_minor": 5
}
