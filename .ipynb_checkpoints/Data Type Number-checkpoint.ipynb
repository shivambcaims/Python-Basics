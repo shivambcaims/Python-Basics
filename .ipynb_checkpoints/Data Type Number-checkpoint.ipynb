{
 "cells": [
  {
   "cell_type": "markdown",
   "id": "38c749b9",
   "metadata": {},
   "source": [
    "## Integers"
   ]
  },
  {
   "cell_type": "code",
   "execution_count": 1,
   "id": "7e7f7026",
   "metadata": {},
   "outputs": [
    {
     "data": {
      "text/plain": [
       "1400"
      ]
     },
     "execution_count": 1,
     "metadata": {},
     "output_type": "execute_result"
    }
   ],
   "source": [
    "25*56"
   ]
  },
  {
   "cell_type": "code",
   "execution_count": 2,
   "id": "46faad52",
   "metadata": {},
   "outputs": [
    {
     "data": {
      "text/plain": [
       "27.666666666666668"
      ]
     },
     "execution_count": 2,
     "metadata": {},
     "output_type": "execute_result"
    }
   ],
   "source": [
    "1245/45"
   ]
  },
  {
   "cell_type": "code",
   "execution_count": 3,
   "id": "97f527a1",
   "metadata": {},
   "outputs": [
    {
     "data": {
      "text/plain": [
       "44406"
      ]
     },
     "execution_count": 3,
     "metadata": {},
     "output_type": "execute_result"
    }
   ],
   "source": [
    "4545+4545+54*654"
   ]
  },
  {
   "cell_type": "code",
   "execution_count": 4,
   "id": "428c9fa2",
   "metadata": {},
   "outputs": [
    {
     "ename": "SyntaxError",
     "evalue": "invalid syntax (542752531.py, line 1)",
     "output_type": "error",
     "traceback": [
      "\u001b[1;36m  File \u001b[1;32m\"C:\\Users\\Shivam Singh\\AppData\\Local\\Temp\\ipykernel_8764\\542752531.py\"\u001b[1;36m, line \u001b[1;32m1\u001b[0m\n\u001b[1;33m    print\"Hi\"\u001b[0m\n\u001b[1;37m         ^\u001b[0m\n\u001b[1;31mSyntaxError\u001b[0m\u001b[1;31m:\u001b[0m invalid syntax\n"
     ]
    }
   ],
   "source": [
    "print\"Hi\""
   ]
  },
  {
   "cell_type": "code",
   "execution_count": 5,
   "id": "0fad0e6e",
   "metadata": {},
   "outputs": [
    {
     "name": "stdout",
     "output_type": "stream",
     "text": [
      "Hi\n"
     ]
    }
   ],
   "source": [
    "print(\"Hi\")"
   ]
  },
  {
   "cell_type": "markdown",
   "id": "79a4736c",
   "metadata": {},
   "source": [
    "## Float"
   ]
  },
  {
   "cell_type": "code",
   "execution_count": 6,
   "id": "2052e418",
   "metadata": {},
   "outputs": [
    {
     "data": {
      "text/plain": [
       "0.8"
      ]
     },
     "execution_count": 6,
     "metadata": {},
     "output_type": "execute_result"
    }
   ],
   "source": [
    "0.2+0.6"
   ]
  },
  {
   "cell_type": "code",
   "execution_count": 7,
   "id": "3df39941",
   "metadata": {},
   "outputs": [
    {
     "data": {
      "text/plain": [
       "2.0"
      ]
     },
     "execution_count": 7,
     "metadata": {},
     "output_type": "execute_result"
    }
   ],
   "source": [
    "0.8/0.4"
   ]
  },
  {
   "cell_type": "markdown",
   "id": "65b47a99",
   "metadata": {},
   "source": [
    "## Avoiding Type Error with str()"
   ]
  },
  {
   "cell_type": "code",
   "execution_count": 8,
   "id": "cb58c8be",
   "metadata": {},
   "outputs": [
    {
     "ename": "TypeError",
     "evalue": "can only concatenate str (not \"int\") to str",
     "output_type": "error",
     "traceback": [
      "\u001b[1;31m---------------------------------------------------------------------------\u001b[0m",
      "\u001b[1;31mTypeError\u001b[0m                                 Traceback (most recent call last)",
      "\u001b[1;32m~\\AppData\\Local\\Temp\\ipykernel_8764\\627734279.py\u001b[0m in \u001b[0;36m<module>\u001b[1;34m\u001b[0m\n\u001b[0;32m      1\u001b[0m \u001b[0mage\u001b[0m\u001b[1;33m=\u001b[0m\u001b[1;36m28\u001b[0m\u001b[1;33m\u001b[0m\u001b[1;33m\u001b[0m\u001b[0m\n\u001b[1;32m----> 2\u001b[1;33m \u001b[0mmessage\u001b[0m \u001b[1;33m=\u001b[0m \u001b[1;34m\"Happy \"\u001b[0m\u001b[1;33m+\u001b[0m \u001b[0mage\u001b[0m\u001b[1;33m+\u001b[0m \u001b[1;34m\"th Birthday\"\u001b[0m\u001b[1;33m\u001b[0m\u001b[1;33m\u001b[0m\u001b[0m\n\u001b[0m",
      "\u001b[1;31mTypeError\u001b[0m: can only concatenate str (not \"int\") to str"
     ]
    }
   ],
   "source": [
    "age=28\n",
    "message = \"Happy \"+ age+ \"th Birthday\""
   ]
  },
  {
   "cell_type": "markdown",
   "id": "720472cb",
   "metadata": {},
   "source": [
    "Now using str() Function"
   ]
  },
  {
   "cell_type": "code",
   "execution_count": 11,
   "id": "b0043556",
   "metadata": {},
   "outputs": [],
   "source": [
    "age=28\n",
    "message = \"Happy \"+ str(age)+\"th Birthday\""
   ]
  },
  {
   "cell_type": "code",
   "execution_count": 12,
   "id": "0cb898fb",
   "metadata": {},
   "outputs": [
    {
     "name": "stdout",
     "output_type": "stream",
     "text": [
      "Happy 28th Birthday\n"
     ]
    }
   ],
   "source": [
    "print(message)"
   ]
  },
  {
   "cell_type": "code",
   "execution_count": null,
   "id": "23592477",
   "metadata": {},
   "outputs": [],
   "source": []
  }
 ],
 "metadata": {
  "kernelspec": {
   "display_name": "Python 3 (ipykernel)",
   "language": "python",
   "name": "python3"
  },
  "language_info": {
   "codemirror_mode": {
    "name": "ipython",
    "version": 3
   },
   "file_extension": ".py",
   "mimetype": "text/x-python",
   "name": "python",
   "nbconvert_exporter": "python",
   "pygments_lexer": "ipython3",
   "version": "3.9.13"
  }
 },
 "nbformat": 4,
 "nbformat_minor": 5
}
