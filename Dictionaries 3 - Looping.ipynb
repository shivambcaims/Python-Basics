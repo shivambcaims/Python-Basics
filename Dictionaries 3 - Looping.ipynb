{
 "cells": [
  {
   "cell_type": "markdown",
   "id": "250c82f0",
   "metadata": {},
   "source": [
    "#### Looping through Key-Value pairs"
   ]
  },
  {
   "cell_type": "code",
   "execution_count": 2,
   "id": "fc3fe4a5",
   "metadata": {},
   "outputs": [
    {
     "name": "stdout",
     "output_type": "stream",
     "text": [
      "{'John': 10, 'Tom': 15, 'Tim': 20, 'Jack': 25}\n"
     ]
    }
   ],
   "source": [
    "user_age={\n",
    "    'John':10,\n",
    "    'Tom': 15,\n",
    "    'Tim': 20,\n",
    "    'Jack':25,\n",
    "}\n",
    "print(user_age)"
   ]
  },
  {
   "cell_type": "code",
   "execution_count": 9,
   "id": "22311f72",
   "metadata": {},
   "outputs": [
    {
     "name": "stdout",
     "output_type": "stream",
     "text": [
      "Name:John\n",
      "Age:10\n",
      "Name:Tom\n",
      "Age:15\n",
      "Name:Tim\n",
      "Age:20\n",
      "Name:Jack\n",
      "Age:25\n"
     ]
    }
   ],
   "source": [
    "for key,value in user_age.items():\n",
    "    print(\"Name:\"+key)\n",
    "    print(\"Age:\"+str(value))"
   ]
  },
  {
   "cell_type": "markdown",
   "id": "76c13cb8",
   "metadata": {},
   "source": [
    "##### Looping through Keys"
   ]
  },
  {
   "cell_type": "code",
   "execution_count": 10,
   "id": "2bac611c",
   "metadata": {},
   "outputs": [
    {
     "name": "stdout",
     "output_type": "stream",
     "text": [
      "{'John': 10, 'Tom': 15, 'Tim': 20, 'Jack': 25}\n"
     ]
    }
   ],
   "source": [
    "user_age={\n",
    "    'John':10,\n",
    "    'Tom': 15,\n",
    "    'Tim': 20,\n",
    "    'Jack':25,\n",
    "}\n",
    "print(user_age)"
   ]
  },
  {
   "cell_type": "code",
   "execution_count": 13,
   "id": "9d238f75",
   "metadata": {},
   "outputs": [
    {
     "name": "stdout",
     "output_type": "stream",
     "text": [
      "Your name is John\n",
      "Your name is Tom\n",
      "Your name is Tim\n",
      "Your name is Jack\n"
     ]
    }
   ],
   "source": [
    "for a in user_age.keys():\n",
    "    print(\"Your name is \" + a)"
   ]
  },
  {
   "cell_type": "code",
   "execution_count": 14,
   "id": "9a50e98d",
   "metadata": {},
   "outputs": [
    {
     "name": "stdout",
     "output_type": "stream",
     "text": [
      "Your name is John\n",
      "Your name is Tom\n",
      "Your name is Tim\n",
      "Your name is Jack\n"
     ]
    }
   ],
   "source": [
    "for a in user_age:\n",
    "    print(\"Your name is \" + a)"
   ]
  },
  {
   "cell_type": "code",
   "execution_count": 18,
   "id": "88e66e31",
   "metadata": {},
   "outputs": [
    {
     "name": "stdout",
     "output_type": "stream",
     "text": [
      "John , Welcome to Python Course.\n"
     ]
    }
   ],
   "source": [
    "for a in user_age:\n",
    "    if a=='John':\n",
    "        print(\"John , Welcome to Python Course.\")"
   ]
  },
  {
   "cell_type": "code",
   "execution_count": 21,
   "id": "1669bd54",
   "metadata": {},
   "outputs": [
    {
     "name": "stdout",
     "output_type": "stream",
     "text": [
      "John, Welcome to Python Course.\n"
     ]
    }
   ],
   "source": [
    "if 'John' in user_age.keys():\n",
    "    print(\"John, Welcome to Python Course.\")"
   ]
  },
  {
   "cell_type": "markdown",
   "id": "3a26dbd2",
   "metadata": {},
   "source": [
    "##### Sorting Keys while Looping"
   ]
  },
  {
   "cell_type": "code",
   "execution_count": 23,
   "id": "f976323a",
   "metadata": {},
   "outputs": [
    {
     "name": "stdout",
     "output_type": "stream",
     "text": [
      "{'John': 10, 'Tom': 15, 'Tim': 20, 'Jack': 25, 'Aeraaf': 29, 'David': 33}\n"
     ]
    }
   ],
   "source": [
    "user_age={\n",
    "    'John':10,\n",
    "    'Tom': 15,\n",
    "    'Tim': 20,\n",
    "    'Jack':25,\n",
    "    'Aeraaf': 29,\n",
    "    'David': 33,\n",
    "}\n",
    "print(user_age)"
   ]
  },
  {
   "cell_type": "code",
   "execution_count": 25,
   "id": "32dbe8f5",
   "metadata": {},
   "outputs": [
    {
     "name": "stdout",
     "output_type": "stream",
     "text": [
      "Your name is Aeraaf\n",
      "Your name is David\n",
      "Your name is Jack\n",
      "Your name is John\n",
      "Your name is Tim\n",
      "Your name is Tom\n"
     ]
    }
   ],
   "source": [
    "for a in sorted(user_age.keys()):\n",
    "    print(\"Your name is \" +a)"
   ]
  },
  {
   "cell_type": "markdown",
   "id": "9c5561af",
   "metadata": {},
   "source": [
    "### Looping through Values"
   ]
  },
  {
   "cell_type": "code",
   "execution_count": 26,
   "id": "57872b49",
   "metadata": {},
   "outputs": [
    {
     "name": "stdout",
     "output_type": "stream",
     "text": [
      "{'John': 10, 'Tom': 15, 'Tim': 20, 'Jack': 25, 'Aeraaf': 29, 'David': 33}\n"
     ]
    }
   ],
   "source": [
    "user_age={\n",
    "    'John':10,\n",
    "    'Tom': 15,\n",
    "    'Tim': 20,\n",
    "    'Jack':25,\n",
    "    'Aeraaf': 29,\n",
    "    'David': 33,\n",
    "}\n",
    "print(user_age)"
   ]
  },
  {
   "cell_type": "code",
   "execution_count": 27,
   "id": "c4269e03",
   "metadata": {},
   "outputs": [
    {
     "name": "stdout",
     "output_type": "stream",
     "text": [
      "10\n",
      "15\n",
      "20\n",
      "25\n",
      "29\n",
      "33\n"
     ]
    }
   ],
   "source": [
    "for a in user_age.values():\n",
    "    print(a)"
   ]
  },
  {
   "cell_type": "markdown",
   "id": "cc6428fd",
   "metadata": {},
   "source": [
    "###### *Duplicate name automatically ignored"
   ]
  },
  {
   "cell_type": "code",
   "execution_count": 28,
   "id": "6cde19ed",
   "metadata": {},
   "outputs": [
    {
     "name": "stdout",
     "output_type": "stream",
     "text": [
      "{'John': 10, 'Tom': 15, 'Tim': 20, 'Jack': 25, 'Aeraaf': 29, 'David': 33}\n"
     ]
    }
   ],
   "source": [
    "user_age={\n",
    "    'John':10,\n",
    "    'Tom': 15,\n",
    "    'Tom': 15,\n",
    "    'Tim': 20,\n",
    "    'Jack':25,\n",
    "    'Aeraaf': 29,\n",
    "    'Aeraaf': 29,\n",
    "    'David': 33,\n",
    "}\n",
    "print(user_age)"
   ]
  },
  {
   "cell_type": "markdown",
   "id": "6096f13e",
   "metadata": {},
   "source": [
    "###### *Avoiding Duplicate Value"
   ]
  },
  {
   "cell_type": "code",
   "execution_count": 29,
   "id": "359cf899",
   "metadata": {},
   "outputs": [
    {
     "name": "stdout",
     "output_type": "stream",
     "text": [
      "{'John': 10, 'Shivam': 15, 'Tom': 15, 'Tim': 20, 'Jack': 25, 'Rahul': 29, 'Aeraaf': 29, 'David': 33}\n"
     ]
    }
   ],
   "source": [
    "user_age={\n",
    "    'John':10,\n",
    "    'Shivam': 15,\n",
    "    'Tom': 15,\n",
    "    'Tim': 20,\n",
    "    'Jack':25,\n",
    "    'Rahul': 29,\n",
    "    'Aeraaf': 29,\n",
    "    'David': 33,\n",
    "}\n",
    "print(user_age)"
   ]
  },
  {
   "cell_type": "code",
   "execution_count": 30,
   "id": "d15c9568",
   "metadata": {},
   "outputs": [
    {
     "name": "stdout",
     "output_type": "stream",
     "text": [
      "10\n",
      "15\n",
      "15\n",
      "20\n",
      "25\n",
      "29\n",
      "29\n",
      "33\n"
     ]
    }
   ],
   "source": [
    "for a in user_age.values():\n",
    "    print(a)"
   ]
  },
  {
   "cell_type": "markdown",
   "id": "116882c8",
   "metadata": {},
   "source": [
    "###### *Using SET method to remove duplicate method"
   ]
  },
  {
   "cell_type": "code",
   "execution_count": 31,
   "id": "c6eb0e94",
   "metadata": {},
   "outputs": [
    {
     "name": "stdout",
     "output_type": "stream",
     "text": [
      "33\n",
      "10\n",
      "15\n",
      "20\n",
      "25\n",
      "29\n"
     ]
    }
   ],
   "source": [
    "for a in set(user_age.values()):\n",
    "    print(a)"
   ]
  },
  {
   "cell_type": "code",
   "execution_count": null,
   "id": "bf44dbbb",
   "metadata": {},
   "outputs": [],
   "source": []
  }
 ],
 "metadata": {
  "kernelspec": {
   "display_name": "Python 3 (ipykernel)",
   "language": "python",
   "name": "python3"
  },
  "language_info": {
   "codemirror_mode": {
    "name": "ipython",
    "version": 3
   },
   "file_extension": ".py",
   "mimetype": "text/x-python",
   "name": "python",
   "nbconvert_exporter": "python",
   "pygments_lexer": "ipython3",
   "version": "3.9.13"
  }
 },
 "nbformat": 4,
 "nbformat_minor": 5
}
