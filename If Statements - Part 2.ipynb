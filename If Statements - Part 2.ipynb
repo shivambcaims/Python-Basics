{
 "cells": [
  {
   "cell_type": "markdown",
   "id": "af11627a",
   "metadata": {},
   "source": [
    "##### Simple if Statements"
   ]
  },
  {
   "cell_type": "markdown",
   "id": "03e64b64",
   "metadata": {},
   "source": [
    "###### if conditioal_test:\n",
    "    do something"
   ]
  },
  {
   "cell_type": "code",
   "execution_count": 2,
   "id": "6fb1325f",
   "metadata": {},
   "outputs": [
    {
     "name": "stdout",
     "output_type": "stream",
     "text": [
      "You can Vote.\n",
      "Congrulations.\n"
     ]
    }
   ],
   "source": [
    "age=19\n",
    "if age>=18:\n",
    "    print(\"You can Vote.\")\n",
    "    print(\"Congrulations.\")"
   ]
  },
  {
   "cell_type": "markdown",
   "id": "56cbe817",
   "metadata": {},
   "source": [
    "##### if-else Statements"
   ]
  },
  {
   "cell_type": "code",
   "execution_count": 3,
   "id": "1e01d6b9",
   "metadata": {},
   "outputs": [
    {
     "name": "stdout",
     "output_type": "stream",
     "text": [
      "Sorry you can not elgible to VOTE\n"
     ]
    }
   ],
   "source": [
    "age=17\n",
    "if age>=18:\n",
    "    print(\"You can Vote.\")\n",
    "    print(\"Congrulations.\")\n",
    "else:\n",
    "    print(\"Sorry you can not elgible to VOTE\")"
   ]
  },
  {
   "cell_type": "markdown",
   "id": "9d676699",
   "metadata": {},
   "source": [
    "### if-elif-else Statements"
   ]
  },
  {
   "cell_type": "markdown",
   "id": "e3018a28",
   "metadata": {},
   "source": [
    "##### Amusement Park Charge Example\n"
   ]
  },
  {
   "cell_type": "markdown",
   "id": "2a9ceb61",
   "metadata": {},
   "source": [
    "##### ---> Age(0-12) - 5RS"
   ]
  },
  {
   "cell_type": "markdown",
   "id": "24964ac2",
   "metadata": {},
   "source": [
    "##### ---> Age(13-17) - 10RS"
   ]
  },
  {
   "cell_type": "markdown",
   "id": "f1e4f634",
   "metadata": {},
   "source": [
    "###### ---> Age(18+) - 15RS"
   ]
  },
  {
   "cell_type": "code",
   "execution_count": 4,
   "id": "b6232b16",
   "metadata": {},
   "outputs": [
    {
     "name": "stdout",
     "output_type": "stream",
     "text": [
      "Admission charge is 10 Rupees\n"
     ]
    }
   ],
   "source": [
    "age=13\n",
    "if age<=12:\n",
    "    print(\"Admission charge is 5 Rupees\")\n",
    "elif age>=13 and age<=17:\n",
    "    print(\"Admission charge is 10 Rupees\")\n",
    "else:\n",
    "    print(\"Admission charge is 15 Rupees\")"
   ]
  },
  {
   "cell_type": "code",
   "execution_count": 8,
   "id": "85587612",
   "metadata": {},
   "outputs": [
    {
     "name": "stdout",
     "output_type": "stream",
     "text": [
      "Admission charge is 15 Rupees\n"
     ]
    }
   ],
   "source": [
    "age=19\n",
    "if age<=12:\n",
    "    price = 5\n",
    "elif age>=13 and age<=17:\n",
    "    price = 10\n",
    "else:\n",
    "    price=15\n",
    "    print(\"Admission charge is \" + str(price)+ \" Rupees\")"
   ]
  },
  {
   "cell_type": "markdown",
   "id": "efed7ba1",
   "metadata": {},
   "source": [
    "###### Multiple elif Blocks"
   ]
  },
  {
   "cell_type": "code",
   "execution_count": 25,
   "id": "a6863700",
   "metadata": {},
   "outputs": [
    {
     "name": "stdout",
     "output_type": "stream",
     "text": [
      "Admission charge is 2 Rupees\n"
     ]
    }
   ],
   "source": [
    "age=66\n",
    "if age<=12:\n",
    "    price = 5\n",
    "elif age>=13 and age<=17:\n",
    "    price = 10\n",
    "elif age >= 65:\n",
    "    price = 2\n",
    "else:\n",
    "    price=15\n",
    "print(\"Admission charge is \" + str(price)+ \" Rupees\")"
   ]
  },
  {
   "cell_type": "markdown",
   "id": "72e3e2c6",
   "metadata": {},
   "source": [
    "##### Omitting else Block"
   ]
  },
  {
   "cell_type": "code",
   "execution_count": 26,
   "id": "f5db55d9",
   "metadata": {},
   "outputs": [
    {
     "name": "stdout",
     "output_type": "stream",
     "text": [
      "Admission charge is 2 Rupees\n"
     ]
    }
   ],
   "source": [
    "age=66\n",
    "if age<=12:\n",
    "    price = 5\n",
    "elif age>=13 and age<=17:\n",
    "    price = 10\n",
    "elif age>=18 and age<=64:\n",
    "    price = 10\n",
    "elif age>=65:\n",
    "    price=2\n",
    "print(\"Admission charge is \" + str(price)+ \" Rupees\")"
   ]
  },
  {
   "cell_type": "markdown",
   "id": "f2aa5104",
   "metadata": {},
   "source": [
    "###### Test Multiple Conditions"
   ]
  },
  {
   "cell_type": "code",
   "execution_count": 29,
   "id": "d395e486",
   "metadata": {},
   "outputs": [
    {
     "name": "stdout",
     "output_type": "stream",
     "text": [
      "You have a BMW in Car.\n",
      "You have a Audi in Car.\n"
     ]
    }
   ],
   "source": [
    "cars= ['ferrari','bmw','audi','mercedes','lamborghini']\n",
    "if 'bmw' in cars:\n",
    "    print(\"You have a BMW in Car.\")\n",
    "if 'audi' in cars:\n",
    "    print(\"You have a Audi in Car.\")\n",
    "if 'Toyota' in cars:\n",
    "    print(\"You have a Toyota in Car.\")    "
   ]
  },
  {
   "cell_type": "code",
   "execution_count": null,
   "id": "f2382b6a",
   "metadata": {},
   "outputs": [],
   "source": []
  }
 ],
 "metadata": {
  "kernelspec": {
   "display_name": "Python 3 (ipykernel)",
   "language": "python",
   "name": "python3"
  },
  "language_info": {
   "codemirror_mode": {
    "name": "ipython",
    "version": 3
   },
   "file_extension": ".py",
   "mimetype": "text/x-python",
   "name": "python",
   "nbconvert_exporter": "python",
   "pygments_lexer": "ipython3",
   "version": "3.9.13"
  }
 },
 "nbformat": 4,
 "nbformat_minor": 5
}
