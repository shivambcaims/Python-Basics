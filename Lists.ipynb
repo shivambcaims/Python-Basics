{
 "cells": [
  {
   "cell_type": "code",
   "execution_count": 7,
   "id": "ca42a6a5",
   "metadata": {},
   "outputs": [
    {
     "name": "stdout",
     "output_type": "stream",
     "text": [
      "['abc', 'def', 'ghi']\n"
     ]
    }
   ],
   "source": [
    "alphabtes = ['abc' , 'def' , 'ghi']\n",
    "print  (alphabtes)"
   ]
  },
  {
   "cell_type": "markdown",
   "id": "f17d7b29",
   "metadata": {},
   "source": [
    "## Acces Elements in List"
   ]
  },
  {
   "cell_type": "code",
   "execution_count": 8,
   "id": "3d3bb61a",
   "metadata": {},
   "outputs": [
    {
     "name": "stdout",
     "output_type": "stream",
     "text": [
      "abc\n"
     ]
    }
   ],
   "source": [
    "print(alphabtes[0])"
   ]
  },
  {
   "cell_type": "code",
   "execution_count": 9,
   "id": "ea28057b",
   "metadata": {},
   "outputs": [
    {
     "name": "stdout",
     "output_type": "stream",
     "text": [
      "def\n"
     ]
    }
   ],
   "source": [
    "print(alphabtes[1])"
   ]
  },
  {
   "cell_type": "code",
   "execution_count": 10,
   "id": "bd848a0d",
   "metadata": {},
   "outputs": [
    {
     "name": "stdout",
     "output_type": "stream",
     "text": [
      "ghi\n"
     ]
    }
   ],
   "source": [
    "print(alphabtes[2])"
   ]
  },
  {
   "cell_type": "code",
   "execution_count": 11,
   "id": "47505c2f",
   "metadata": {},
   "outputs": [
    {
     "name": "stdout",
     "output_type": "stream",
     "text": [
      "ghi\n"
     ]
    }
   ],
   "source": [
    "print(alphabtes [-1])"
   ]
  },
  {
   "cell_type": "code",
   "execution_count": 13,
   "id": "e39196e8",
   "metadata": {},
   "outputs": [
    {
     "name": "stdout",
     "output_type": "stream",
     "text": [
      "def\n"
     ]
    }
   ],
   "source": [
    "print(alphabtes[-2])"
   ]
  },
  {
   "cell_type": "code",
   "execution_count": 14,
   "id": "36aaa3a9",
   "metadata": {},
   "outputs": [
    {
     "name": "stdout",
     "output_type": "stream",
     "text": [
      "abc\n"
     ]
    }
   ],
   "source": [
    "print(alphabtes[-3])"
   ]
  },
  {
   "cell_type": "markdown",
   "id": "e664480b",
   "metadata": {},
   "source": [
    "## Build Sentence using Value in List"
   ]
  },
  {
   "cell_type": "code",
   "execution_count": 17,
   "id": "03e2c31a",
   "metadata": {},
   "outputs": [
    {
     "name": "stdout",
     "output_type": "stream",
     "text": [
      "Shivam Singh\n"
     ]
    }
   ],
   "source": [
    "names=['Dipanshi', 'Shivam Singh', 'Rahul']\n",
    "second_name=names[1]\n",
    "print (second_name)"
   ]
  },
  {
   "cell_type": "code",
   "execution_count": 18,
   "id": "e1e319e7",
   "metadata": {},
   "outputs": [
    {
     "name": "stdout",
     "output_type": "stream",
     "text": [
      "Your name is Shivam Singh\n"
     ]
    }
   ],
   "source": [
    "print('Your name is '+ second_name)"
   ]
  },
  {
   "cell_type": "markdown",
   "id": "8dac83e1",
   "metadata": {},
   "source": [
    "## Slicing Elements in List"
   ]
  },
  {
   "cell_type": "markdown",
   "id": "5080d52d",
   "metadata": {},
   "source": [
    "##### syntax = list_name[start:stop]"
   ]
  },
  {
   "cell_type": "code",
   "execution_count": 20,
   "id": "0f6fa24b",
   "metadata": {},
   "outputs": [
    {
     "data": {
      "text/plain": [
       "['a', 'b', 'c']"
      ]
     },
     "execution_count": 20,
     "metadata": {},
     "output_type": "execute_result"
    }
   ],
   "source": [
    "letters= ['a','b','c','d','e','f']\n",
    "letters[0:3]"
   ]
  },
  {
   "cell_type": "code",
   "execution_count": 21,
   "id": "24ae95dd",
   "metadata": {},
   "outputs": [
    {
     "data": {
      "text/plain": [
       "['a', 'b', 'c', 'd']"
      ]
     },
     "execution_count": 21,
     "metadata": {},
     "output_type": "execute_result"
    }
   ],
   "source": [
    "letters[0:4]"
   ]
  },
  {
   "cell_type": "code",
   "execution_count": 22,
   "id": "94866af8",
   "metadata": {},
   "outputs": [
    {
     "data": {
      "text/plain": [
       "['a', 'b', 'c', 'd', 'e', 'f']"
      ]
     },
     "execution_count": 22,
     "metadata": {},
     "output_type": "execute_result"
    }
   ],
   "source": [
    "letters[ 0:]"
   ]
  },
  {
   "cell_type": "code",
   "execution_count": 25,
   "id": "8ae1b7b9",
   "metadata": {},
   "outputs": [
    {
     "data": {
      "text/plain": [
       "['a', 'c', 'e']"
      ]
     },
     "execution_count": 25,
     "metadata": {},
     "output_type": "execute_result"
    }
   ],
   "source": [
    "letters[ ::2]"
   ]
  },
  {
   "cell_type": "markdown",
   "id": "525f2a7e-a06c-4a40-b290-c7947791927e",
   "metadata": {},
   "source": [
    "## Change,Add and Remove Elements"
   ]
  },
  {
   "cell_type": "markdown",
   "id": "e5d937fa",
   "metadata": {},
   "source": [
    "##### Modifiying Elements"
   ]
  },
  {
   "cell_type": "code",
   "execution_count": 2,
   "id": "2386c068",
   "metadata": {},
   "outputs": [
    {
     "name": "stdout",
     "output_type": "stream",
     "text": [
      "['s', 'b', 'c', 'd', 'e', 'f']\n"
     ]
    }
   ],
   "source": [
    "letters= ['a','b','c','d','e','f']\n",
    "letters[0]= 's'\n",
    "print(letters)\n"
   ]
  },
  {
   "cell_type": "code",
   "execution_count": 3,
   "id": "215c241f",
   "metadata": {},
   "outputs": [
    {
     "name": "stdout",
     "output_type": "stream",
     "text": [
      "['s', 3, 'c', 'd', 'e', 'f']\n"
     ]
    }
   ],
   "source": [
    "letters[1]= 3\n",
    "print(letters)"
   ]
  },
  {
   "cell_type": "code",
   "execution_count": 4,
   "id": "9f136c39",
   "metadata": {},
   "outputs": [
    {
     "name": "stdout",
     "output_type": "stream",
     "text": [
      "['s', 3, 'c', 'd', 'e', 2.1]\n"
     ]
    }
   ],
   "source": [
    "letters[-1]= 2.1\n",
    "print(letters)"
   ]
  },
  {
   "cell_type": "markdown",
   "id": "7bdd4287",
   "metadata": {},
   "source": [
    "#### Adding Elements\n",
    "Appending at the End of the list"
   ]
  },
  {
   "cell_type": "code",
   "execution_count": 5,
   "id": "3adea225",
   "metadata": {},
   "outputs": [
    {
     "name": "stdout",
     "output_type": "stream",
     "text": [
      "['a', 'b', 'c', 'd', 'e', 'f', 'g']\n"
     ]
    }
   ],
   "source": [
    "my_list= ['a','b','c','d','e','f']\n",
    "my_list.append('g')\n",
    "print(my_list)"
   ]
  },
  {
   "cell_type": "code",
   "execution_count": 6,
   "id": "9d500cdc",
   "metadata": {},
   "outputs": [
    {
     "name": "stdout",
     "output_type": "stream",
     "text": [
      "[]\n"
     ]
    }
   ],
   "source": [
    "my_name = []\n",
    "print(my_name)"
   ]
  },
  {
   "cell_type": "code",
   "execution_count": 7,
   "id": "3357a929",
   "metadata": {},
   "outputs": [],
   "source": [
    "my_name.append('s')\n",
    "my_name.append('h')\n",
    "my_name.append('i')\n",
    "my_name.append('v')\n",
    "my_name.append('a')\n",
    "my_name.append('m')\n"
   ]
  },
  {
   "cell_type": "code",
   "execution_count": 8,
   "id": "dbbad25f",
   "metadata": {},
   "outputs": [
    {
     "name": "stdout",
     "output_type": "stream",
     "text": [
      "['s', 'h', 'i', 'v', 'a', 'm']\n"
     ]
    }
   ],
   "source": [
    "print(my_name)"
   ]
  },
  {
   "cell_type": "markdown",
   "id": "13ec5bf3",
   "metadata": {},
   "source": [
    "## Inserting Elements - .insert()"
   ]
  },
  {
   "cell_type": "code",
   "execution_count": 10,
   "id": "d4190a14",
   "metadata": {},
   "outputs": [],
   "source": [
    "to_insert = ['a', 'c', 'd', 'e','f']\n",
    "to_insert.insert(1,'b')"
   ]
  },
  {
   "cell_type": "code",
   "execution_count": 11,
   "id": "59e68bf7",
   "metadata": {},
   "outputs": [
    {
     "name": "stdout",
     "output_type": "stream",
     "text": [
      "['a', 'b', 'c', 'd', 'e', 'f']\n"
     ]
    }
   ],
   "source": [
    "print(to_insert)"
   ]
  },
  {
   "cell_type": "code",
   "execution_count": 12,
   "id": "73b6f020",
   "metadata": {},
   "outputs": [],
   "source": [
    "to_insert.insert(4,'t')"
   ]
  },
  {
   "cell_type": "code",
   "execution_count": 13,
   "id": "9d8a15c1",
   "metadata": {},
   "outputs": [
    {
     "name": "stdout",
     "output_type": "stream",
     "text": [
      "['a', 'b', 'c', 'd', 't', 'e', 'f']\n"
     ]
    }
   ],
   "source": [
    "print(to_insert)"
   ]
  },
  {
   "cell_type": "markdown",
   "id": "0da6f854",
   "metadata": {},
   "source": [
    "## Removing Elements"
   ]
  },
  {
   "cell_type": "markdown",
   "id": "cd355e54",
   "metadata": {},
   "source": [
    "#### Removing using del statement"
   ]
  },
  {
   "cell_type": "code",
   "execution_count": 14,
   "id": "38af1a96",
   "metadata": {},
   "outputs": [
    {
     "name": "stdout",
     "output_type": "stream",
     "text": [
      "['b', 'c', 'd', 'e', 'f']\n"
     ]
    }
   ],
   "source": [
    "sir= ['a','b','c','d','e','f']\n",
    "del sir[0]\n",
    "print(sir)"
   ]
  },
  {
   "cell_type": "code",
   "execution_count": 15,
   "id": "91b194a1",
   "metadata": {},
   "outputs": [
    {
     "name": "stdout",
     "output_type": "stream",
     "text": [
      "['b', 'c', 'd', 'e']\n"
     ]
    }
   ],
   "source": [
    "del sir[-1]\n",
    "print(sir)"
   ]
  },
  {
   "cell_type": "code",
   "execution_count": 17,
   "id": "0bb2bad3",
   "metadata": {},
   "outputs": [
    {
     "name": "stdout",
     "output_type": "stream",
     "text": [
      "['b', 'c', 'e']\n"
     ]
    }
   ],
   "source": [
    "del sir[2]\n",
    "print(sir)"
   ]
  },
  {
   "cell_type": "markdown",
   "id": "a17ba8e4",
   "metadata": {},
   "source": [
    "## Removing using pop() method"
   ]
  },
  {
   "cell_type": "code",
   "execution_count": 18,
   "id": "b2fd0cfb",
   "metadata": {},
   "outputs": [
    {
     "name": "stdout",
     "output_type": "stream",
     "text": [
      "['a', 'b', 'c', 'd', 'e', 'f']\n"
     ]
    }
   ],
   "source": [
    "letters = ['a','b','c','d','e','f']\n",
    "print(letters)"
   ]
  },
  {
   "cell_type": "code",
   "execution_count": 20,
   "id": "e8562128",
   "metadata": {},
   "outputs": [
    {
     "data": {
      "text/plain": [
       "'e'"
      ]
     },
     "execution_count": 20,
     "metadata": {},
     "output_type": "execute_result"
    }
   ],
   "source": [
    "letters.pop()"
   ]
  },
  {
   "cell_type": "code",
   "execution_count": 21,
   "id": "8d87aaea",
   "metadata": {},
   "outputs": [
    {
     "name": "stdout",
     "output_type": "stream",
     "text": [
      "['a', 'b', 'c', 'd']\n"
     ]
    }
   ],
   "source": [
    "print(letters)"
   ]
  },
  {
   "cell_type": "code",
   "execution_count": 22,
   "id": "ab1a518e",
   "metadata": {},
   "outputs": [],
   "source": [
    "popped_element = letters.pop()"
   ]
  },
  {
   "cell_type": "code",
   "execution_count": 24,
   "id": "865a3e1d",
   "metadata": {},
   "outputs": [
    {
     "name": "stdout",
     "output_type": "stream",
     "text": [
      "['a', 'b', 'c']\n"
     ]
    }
   ],
   "source": [
    "print(letters)"
   ]
  },
  {
   "cell_type": "code",
   "execution_count": 25,
   "id": "3c6a004f",
   "metadata": {},
   "outputs": [
    {
     "name": "stdout",
     "output_type": "stream",
     "text": [
      "d\n"
     ]
    }
   ],
   "source": [
    "print(popped_element)"
   ]
  },
  {
   "cell_type": "code",
   "execution_count": 26,
   "id": "44c90fd6",
   "metadata": {},
   "outputs": [
    {
     "data": {
      "text/plain": [
       "str"
      ]
     },
     "execution_count": 26,
     "metadata": {},
     "output_type": "execute_result"
    }
   ],
   "source": [
    "type(popped_element)"
   ]
  },
  {
   "cell_type": "code",
   "execution_count": 27,
   "id": "fd2490e0",
   "metadata": {},
   "outputs": [
    {
     "data": {
      "text/plain": [
       "'b'"
      ]
     },
     "execution_count": 27,
     "metadata": {},
     "output_type": "execute_result"
    }
   ],
   "source": [
    "letters.pop(1)\n"
   ]
  },
  {
   "cell_type": "code",
   "execution_count": 29,
   "id": "f3d56283",
   "metadata": {},
   "outputs": [
    {
     "name": "stdout",
     "output_type": "stream",
     "text": [
      "['a', 'c']\n"
     ]
    }
   ],
   "source": [
    "print(letters)"
   ]
  },
  {
   "cell_type": "markdown",
   "id": "6069468b",
   "metadata": {},
   "source": [
    "## Removing Items by Value"
   ]
  },
  {
   "cell_type": "code",
   "execution_count": 30,
   "id": "2c6a8b0d",
   "metadata": {},
   "outputs": [
    {
     "name": "stdout",
     "output_type": "stream",
     "text": [
      "['a', 'b', 'c', 'd', 'e', 'f']\n"
     ]
    }
   ],
   "source": [
    "letters = ['a','b','c','d','e','f']\n",
    "print(letters)"
   ]
  },
  {
   "cell_type": "code",
   "execution_count": 31,
   "id": "d0c110f6",
   "metadata": {},
   "outputs": [],
   "source": [
    "letters.remove('d')"
   ]
  },
  {
   "cell_type": "code",
   "execution_count": 32,
   "id": "fea8a5c5",
   "metadata": {},
   "outputs": [
    {
     "name": "stdout",
     "output_type": "stream",
     "text": [
      "['a', 'b', 'c', 'e', 'f']\n"
     ]
    }
   ],
   "source": [
    "print(letters)"
   ]
  },
  {
   "cell_type": "code",
   "execution_count": 33,
   "id": "866f3811",
   "metadata": {},
   "outputs": [],
   "source": [
    "removed_variable= 'b'\n",
    "letters.remove(removed_variable)"
   ]
  },
  {
   "cell_type": "code",
   "execution_count": 34,
   "id": "ce409a9a",
   "metadata": {},
   "outputs": [
    {
     "name": "stdout",
     "output_type": "stream",
     "text": [
      "['a', 'c', 'e', 'f']\n"
     ]
    }
   ],
   "source": [
    "print(letters)"
   ]
  },
  {
   "cell_type": "markdown",
   "id": "6fe64d82",
   "metadata": {},
   "source": [
    "#### In case of Duplicate items"
   ]
  },
  {
   "cell_type": "code",
   "execution_count": 35,
   "id": "ecfdd76e",
   "metadata": {},
   "outputs": [
    {
     "name": "stdout",
     "output_type": "stream",
     "text": [
      "['a', 'b', 'c', 'c', 'd', 'e', 'f']\n"
     ]
    }
   ],
   "source": [
    "letters = ['a','b','c','c','d','e','f']\n",
    "print(letters)"
   ]
  },
  {
   "cell_type": "code",
   "execution_count": 37,
   "id": "3eba0b75",
   "metadata": {},
   "outputs": [],
   "source": [
    "letters.remove('c')"
   ]
  },
  {
   "cell_type": "code",
   "execution_count": 38,
   "id": "913dcc34",
   "metadata": {},
   "outputs": [
    {
     "name": "stdout",
     "output_type": "stream",
     "text": [
      "['a', 'b', 'c', 'd', 'e', 'f']\n"
     ]
    }
   ],
   "source": [
    "print(letters)"
   ]
  },
  {
   "cell_type": "code",
   "execution_count": null,
   "id": "ba7d4ced",
   "metadata": {},
   "outputs": [],
   "source": []
  }
 ],
 "metadata": {
  "kernelspec": {
   "display_name": "Python 3 (ipykernel)",
   "language": "python",
   "name": "python3"
  },
  "language_info": {
   "codemirror_mode": {
    "name": "ipython",
    "version": 3
   },
   "file_extension": ".py",
   "mimetype": "text/x-python",
   "name": "python",
   "nbconvert_exporter": "python",
   "pygments_lexer": "ipython3",
   "version": "3.9.13"
  }
 },
 "nbformat": 4,
 "nbformat_minor": 5
}
