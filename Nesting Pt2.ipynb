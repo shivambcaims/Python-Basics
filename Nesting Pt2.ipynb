{
 "cells": [
  {
   "cell_type": "markdown",
   "id": "245b5f1f",
   "metadata": {},
   "source": [
    "##### List in Dictionary"
   ]
  },
  {
   "cell_type": "code",
   "execution_count": 3,
   "id": "212e7020",
   "metadata": {},
   "outputs": [
    {
     "name": "stdout",
     "output_type": "stream",
     "text": [
      "{'Name': 'Shivam', 'Hobbies': ['Dancing', 'Gamming', 'Traveling']}\n"
     ]
    }
   ],
   "source": [
    "user={'Name':'Shivam','Hobbies':['Dancing','Gamming','Traveling']}\n",
    "print(user)"
   ]
  },
  {
   "cell_type": "code",
   "execution_count": 5,
   "id": "d5044132",
   "metadata": {},
   "outputs": [
    {
     "name": "stdout",
     "output_type": "stream",
     "text": [
      "['Dancing', 'Gamming', 'Traveling']\n"
     ]
    }
   ],
   "source": [
    "print(user['Hobbies'])"
   ]
  },
  {
   "cell_type": "code",
   "execution_count": 10,
   "id": "0e04939c",
   "metadata": {},
   "outputs": [
    {
     "name": "stdout",
     "output_type": "stream",
     "text": [
      "List of Hobbies for user Shivam\n",
      "\n",
      "Dancing\n",
      "\n",
      "Gamming\n",
      "\n",
      "Traveling\n"
     ]
    }
   ],
   "source": [
    "print(\"List of Hobbies for user \"+user['Name'])\n",
    "for hobby in user['Hobbies']:\n",
    "  print(\"\\n\"+hobby)"
   ]
  },
  {
   "cell_type": "code",
   "execution_count": 15,
   "id": "681ecce1",
   "metadata": {},
   "outputs": [
    {
     "name": "stdout",
     "output_type": "stream",
     "text": [
      "['Reading', 'Singing']\n"
     ]
    }
   ],
   "source": [
    "users={'user1':['Reading','Singing'],'user2':['Dancing', 'Gamming']}\n",
    "print(users['user1'])"
   ]
  },
  {
   "cell_type": "code",
   "execution_count": 16,
   "id": "fb8997cb",
   "metadata": {},
   "outputs": [
    {
     "name": "stdout",
     "output_type": "stream",
     "text": [
      "['Dancing', 'Gamming']\n"
     ]
    }
   ],
   "source": [
    "print(users['user2'])"
   ]
  },
  {
   "cell_type": "code",
   "execution_count": null,
   "id": "839cbab9",
   "metadata": {},
   "outputs": [],
   "source": []
  }
 ],
 "metadata": {
  "kernelspec": {
   "display_name": "Python 3 (ipykernel)",
   "language": "python",
   "name": "python3"
  },
  "language_info": {
   "codemirror_mode": {
    "name": "ipython",
    "version": 3
   },
   "file_extension": ".py",
   "mimetype": "text/x-python",
   "name": "python",
   "nbconvert_exporter": "python",
   "pygments_lexer": "ipython3",
   "version": "3.9.13"
  }
 },
 "nbformat": 4,
 "nbformat_minor": 5
}
