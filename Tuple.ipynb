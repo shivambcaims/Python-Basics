{
 "cells": [
  {
   "cell_type": "markdown",
   "id": "18e2116f",
   "metadata": {},
   "source": [
    "### Defing a Tuple"
   ]
  },
  {
   "cell_type": "markdown",
   "id": "67ba17ce",
   "metadata": {},
   "source": [
    "* Tuples are immutables lists.\n",
    "* Use of parenthesis instead of square brackets.\n",
    "* Syntax - tuple_name= (item_1, item_2)"
   ]
  },
  {
   "cell_type": "code",
   "execution_count": 2,
   "id": "44fa90b5",
   "metadata": {},
   "outputs": [
    {
     "name": "stdout",
     "output_type": "stream",
     "text": [
      "('Shivam', 'Singh')\n"
     ]
    }
   ],
   "source": [
    "my_name = ('Shivam','Singh')\n",
    "print(my_name)"
   ]
  },
  {
   "cell_type": "code",
   "execution_count": 4,
   "id": "1f436694",
   "metadata": {},
   "outputs": [
    {
     "name": "stdout",
     "output_type": "stream",
     "text": [
      "Shivam\n"
     ]
    }
   ],
   "source": [
    "print(my_name[0])"
   ]
  },
  {
   "cell_type": "code",
   "execution_count": 5,
   "id": "87cb2d32",
   "metadata": {},
   "outputs": [
    {
     "name": "stdout",
     "output_type": "stream",
     "text": [
      "Singh\n"
     ]
    }
   ],
   "source": [
    "print(my_name[1])"
   ]
  },
  {
   "cell_type": "markdown",
   "id": "a15a7b6c",
   "metadata": {},
   "source": [
    "### Looping through Tuple"
   ]
  },
  {
   "cell_type": "code",
   "execution_count": 11,
   "id": "62b71a39",
   "metadata": {},
   "outputs": [
    {
     "name": "stdout",
     "output_type": "stream",
     "text": [
      "100\n",
      "50\n"
     ]
    }
   ],
   "source": [
    "rectangle_dim = (100,50)\n",
    "for rect in rectangle_dim:\n",
    "    print(rect)"
   ]
  },
  {
   "cell_type": "markdown",
   "id": "3e2b0d58",
   "metadata": {},
   "source": [
    "### Writing Over Tuple"
   ]
  },
  {
   "cell_type": "code",
   "execution_count": 12,
   "id": "8eaf4417",
   "metadata": {},
   "outputs": [
    {
     "name": "stdout",
     "output_type": "stream",
     "text": [
      "Original Dimensions:\n",
      "100\n",
      "50\n"
     ]
    }
   ],
   "source": [
    "rectangle_dim = (100,50)\n",
    "print(\"Original Dimensions:\")\n",
    "for rect in rectangle_dim:\n",
    "    print(rect)"
   ]
  },
  {
   "cell_type": "code",
   "execution_count": 13,
   "id": "150752da",
   "metadata": {},
   "outputs": [
    {
     "name": "stdout",
     "output_type": "stream",
     "text": [
      "Modified Dimensions:\n",
      "200\n",
      "100\n"
     ]
    }
   ],
   "source": [
    "rectangle_dim = (200,100)\n",
    "print(\"Modified Dimensions:\")\n",
    "for rect in rectangle_dim:\n",
    "    print(rect)"
   ]
  },
  {
   "cell_type": "code",
   "execution_count": null,
   "id": "9b36b5d0",
   "metadata": {},
   "outputs": [],
   "source": []
  }
 ],
 "metadata": {
  "kernelspec": {
   "display_name": "Python 3 (ipykernel)",
   "language": "python",
   "name": "python3"
  },
  "language_info": {
   "codemirror_mode": {
    "name": "ipython",
    "version": 3
   },
   "file_extension": ".py",
   "mimetype": "text/x-python",
   "name": "python",
   "nbconvert_exporter": "python",
   "pygments_lexer": "ipython3",
   "version": "3.9.13"
  }
 },
 "nbformat": 4,
 "nbformat_minor": 5
}
