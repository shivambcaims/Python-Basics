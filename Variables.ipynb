{
 "cells": [
  {
   "cell_type": "code",
   "execution_count": 1,
   "id": "ecb9f931",
   "metadata": {},
   "outputs": [
    {
     "name": "stdout",
     "output_type": "stream",
     "text": [
      "Hello Shivam.... How are you.??\n"
     ]
    }
   ],
   "source": [
    "print(\"Hello Shivam.... How are you.??\")"
   ]
  },
  {
   "cell_type": "code",
   "execution_count": 2,
   "id": "e706cc0f",
   "metadata": {},
   "outputs": [
    {
     "name": "stdout",
     "output_type": "stream",
     "text": [
      "How are you Shivam Singh\n"
     ]
    }
   ],
   "source": [
    "message = \"How are you Shivam Singh\"\n",
    "print (message)\n"
   ]
  },
  {
   "cell_type": "code",
   "execution_count": 3,
   "id": "d363fa9d",
   "metadata": {},
   "outputs": [
    {
     "name": "stdout",
     "output_type": "stream",
     "text": [
      "message\n"
     ]
    }
   ],
   "source": [
    "message = \"I am fine Whats about you...?\"\n",
    "print(\"message\")"
   ]
  },
  {
   "cell_type": "code",
   "execution_count": 4,
   "id": "ac7db356",
   "metadata": {},
   "outputs": [
    {
     "name": "stdout",
     "output_type": "stream",
     "text": [
      "I am fine Whats about you...?\n"
     ]
    }
   ],
   "source": [
    "print(message)"
   ]
  },
  {
   "cell_type": "code",
   "execution_count": null,
   "id": "80a06d25",
   "metadata": {},
   "outputs": [],
   "source": []
  }
 ],
 "metadata": {
  "kernelspec": {
   "display_name": "Python 3 (ipykernel)",
   "language": "python",
   "name": "python3"
  },
  "language_info": {
   "codemirror_mode": {
    "name": "ipython",
    "version": 3
   },
   "file_extension": ".py",
   "mimetype": "text/x-python",
   "name": "python",
   "nbconvert_exporter": "python",
   "pygments_lexer": "ipython3",
   "version": "3.9.13"
  }
 },
 "nbformat": 4,
 "nbformat_minor": 5
}
