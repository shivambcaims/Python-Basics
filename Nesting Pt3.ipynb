{
 "cells": [
  {
   "cell_type": "markdown",
   "id": "0d4630d1",
   "metadata": {},
   "source": [
    "#### Dictionary inside Dictionary"
   ]
  },
  {
   "cell_type": "code",
   "execution_count": 1,
   "id": "15864b4b",
   "metadata": {},
   "outputs": [],
   "source": [
    "users={'user1':{'name':'abc','hobby':'singing'},'user2':{'name':'def','hobby':'dancing'}}"
   ]
  },
  {
   "cell_type": "code",
   "execution_count": 2,
   "id": "083458e8",
   "metadata": {},
   "outputs": [
    {
     "name": "stdout",
     "output_type": "stream",
     "text": [
      "username:user1\n",
      "username:user2\n"
     ]
    }
   ],
   "source": [
    "for user_name,user_hobby in users.items():\n",
    "    print(\"username:\"+ user_name)"
   ]
  },
  {
   "cell_type": "code",
   "execution_count": 4,
   "id": "4232b4a0",
   "metadata": {},
   "outputs": [
    {
     "name": "stdout",
     "output_type": "stream",
     "text": [
      "{'name': 'abc', 'hobby': 'singing'}\n",
      "{'name': 'def', 'hobby': 'dancing'}\n"
     ]
    }
   ],
   "source": [
    "for user_name,user_hobby in users.items():\n",
    "    print(user_hobby)"
   ]
  },
  {
   "cell_type": "code",
   "execution_count": 5,
   "id": "a20126b7",
   "metadata": {},
   "outputs": [
    {
     "name": "stdout",
     "output_type": "stream",
     "text": [
      "Username:user1\n",
      "{'name': 'abc', 'hobby': 'singing'}\n",
      "Username:user2\n",
      "{'name': 'def', 'hobby': 'dancing'}\n"
     ]
    }
   ],
   "source": [
    "for user_name,user_hobby in users.items():\n",
    "    print(\"Username:\"+user_name)\n",
    "    print(user_hobby)"
   ]
  },
  {
   "cell_type": "code",
   "execution_count": 6,
   "id": "b62fdcff",
   "metadata": {},
   "outputs": [
    {
     "name": "stdout",
     "output_type": "stream",
     "text": [
      "Username:user1\n",
      "Name:abc\n",
      "{'name': 'abc', 'hobby': 'singing'}\n",
      "Username:user2\n",
      "Name:def\n",
      "{'name': 'def', 'hobby': 'dancing'}\n"
     ]
    }
   ],
   "source": [
    "for user_name,user_hobby in users.items():\n",
    "    print(\"Username:\"+user_name)\n",
    "    print(\"Name:\"+user_hobby['name'])\n",
    "    print(user_hobby)"
   ]
  },
  {
   "cell_type": "code",
   "execution_count": 7,
   "id": "9edc567b",
   "metadata": {},
   "outputs": [
    {
     "name": "stdout",
     "output_type": "stream",
     "text": [
      "Username:user1\n",
      "Name:abc\n",
      "Hobby:singing\n",
      "Username:user2\n",
      "Name:def\n",
      "Hobby:dancing\n"
     ]
    }
   ],
   "source": [
    "for user_name,user_hobby in users.items():\n",
    "    print(\"Username:\"+user_name)\n",
    "    print(\"Name:\"+user_hobby['name'])\n",
    "    print(\"Hobby:\"+user_hobby['hobby'])"
   ]
  },
  {
   "cell_type": "code",
   "execution_count": null,
   "id": "fa1a5fbe",
   "metadata": {},
   "outputs": [],
   "source": []
  }
 ],
 "metadata": {
  "kernelspec": {
   "display_name": "Python 3 (ipykernel)",
   "language": "python",
   "name": "python3"
  },
  "language_info": {
   "codemirror_mode": {
    "name": "ipython",
    "version": 3
   },
   "file_extension": ".py",
   "mimetype": "text/x-python",
   "name": "python",
   "nbconvert_exporter": "python",
   "pygments_lexer": "ipython3",
   "version": "3.9.13"
  }
 },
 "nbformat": 4,
 "nbformat_minor": 5
}
