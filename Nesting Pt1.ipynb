{
 "cells": [
  {
   "cell_type": "markdown",
   "id": "8c348e63",
   "metadata": {},
   "source": [
    "##### List of Dictionaries"
   ]
  },
  {
   "cell_type": "code",
   "execution_count": 2,
   "id": "6faf9b43",
   "metadata": {},
   "outputs": [
    {
     "name": "stdout",
     "output_type": "stream",
     "text": [
      "{'name': 'abc', 'age': 28}\n",
      "{'name': 'def', 'age': 25}\n"
     ]
    }
   ],
   "source": [
    "user1 = {'name': 'abc','age':28}\n",
    "user2 = {'name': 'def','age':25}\n",
    "users = [user1,user2]\n",
    "for u in users:\n",
    "    print(u)"
   ]
  },
  {
   "cell_type": "code",
   "execution_count": 4,
   "id": "ae96ae89",
   "metadata": {},
   "outputs": [
    {
     "name": "stdout",
     "output_type": "stream",
     "text": [
      "[{'color': 'black', 'points': 10}, {'color': 'black', 'points': 10}, {'color': 'black', 'points': 10}, {'color': 'black', 'points': 10}, {'color': 'black', 'points': 10}, {'color': 'black', 'points': 10}, {'color': 'black', 'points': 10}, {'color': 'black', 'points': 10}, {'color': 'black', 'points': 10}, {'color': 'black', 'points': 10}, {'color': 'black', 'points': 10}, {'color': 'black', 'points': 10}, {'color': 'black', 'points': 10}, {'color': 'black', 'points': 10}, {'color': 'black', 'points': 10}, {'color': 'black', 'points': 10}, {'color': 'black', 'points': 10}, {'color': 'black', 'points': 10}, {'color': 'black', 'points': 10}, {'color': 'black', 'points': 10}]\n"
     ]
    }
   ],
   "source": [
    "#Empty List\n",
    "enemies = []\n",
    "for enemy_number in range (20):\n",
    "    enemy_dict={'color':'black','points':10}\n",
    "    enemies.append(enemy_dict)\n",
    "print(enemies)    "
   ]
  },
  {
   "cell_type": "code",
   "execution_count": 5,
   "id": "5dfa8258",
   "metadata": {},
   "outputs": [
    {
     "data": {
      "text/plain": [
       "20"
      ]
     },
     "execution_count": 5,
     "metadata": {},
     "output_type": "execute_result"
    }
   ],
   "source": [
    "len(enemies)"
   ]
  },
  {
   "cell_type": "code",
   "execution_count": 7,
   "id": "8daf2c5f",
   "metadata": {},
   "outputs": [
    {
     "name": "stdout",
     "output_type": "stream",
     "text": [
      "Total enemies created: 20\n"
     ]
    }
   ],
   "source": [
    "print(\"Total enemies created: \"+str(len(enemies)))"
   ]
  },
  {
   "cell_type": "code",
   "execution_count": 9,
   "id": "f346b6f7",
   "metadata": {},
   "outputs": [
    {
     "name": "stdout",
     "output_type": "stream",
     "text": [
      "{'color': 'black', 'points': 10}\n",
      "{'color': 'black', 'points': 10}\n",
      "{'color': 'black', 'points': 10}\n"
     ]
    }
   ],
   "source": [
    "for e in enemies [:3]:\n",
    "    print(e)"
   ]
  },
  {
   "cell_type": "code",
   "execution_count": 10,
   "id": "e34bc2ca",
   "metadata": {},
   "outputs": [],
   "source": [
    "for e in enemies [:5]:\n",
    "    if e ['color']== 'black':\n",
    "        e['color']='green'"
   ]
  },
  {
   "cell_type": "code",
   "execution_count": 11,
   "id": "ba24b092",
   "metadata": {},
   "outputs": [
    {
     "name": "stdout",
     "output_type": "stream",
     "text": [
      "[{'color': 'green', 'points': 10}, {'color': 'green', 'points': 10}, {'color': 'green', 'points': 10}, {'color': 'green', 'points': 10}, {'color': 'green', 'points': 10}, {'color': 'black', 'points': 10}, {'color': 'black', 'points': 10}, {'color': 'black', 'points': 10}, {'color': 'black', 'points': 10}, {'color': 'black', 'points': 10}, {'color': 'black', 'points': 10}, {'color': 'black', 'points': 10}, {'color': 'black', 'points': 10}, {'color': 'black', 'points': 10}, {'color': 'black', 'points': 10}, {'color': 'black', 'points': 10}, {'color': 'black', 'points': 10}, {'color': 'black', 'points': 10}, {'color': 'black', 'points': 10}, {'color': 'black', 'points': 10}]\n"
     ]
    }
   ],
   "source": [
    "print (enemies)"
   ]
  },
  {
   "cell_type": "code",
   "execution_count": null,
   "id": "d2bfd92f",
   "metadata": {},
   "outputs": [],
   "source": []
  }
 ],
 "metadata": {
  "kernelspec": {
   "display_name": "Python 3 (ipykernel)",
   "language": "python",
   "name": "python3"
  },
  "language_info": {
   "codemirror_mode": {
    "name": "ipython",
    "version": 3
   },
   "file_extension": ".py",
   "mimetype": "text/x-python",
   "name": "python",
   "nbconvert_exporter": "python",
   "pygments_lexer": "ipython3",
   "version": "3.9.13"
  }
 },
 "nbformat": 4,
 "nbformat_minor": 5
}
