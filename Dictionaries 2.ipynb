{
 "cells": [
  {
   "cell_type": "markdown",
   "id": "444be142",
   "metadata": {},
   "source": [
    "##### Dictionaries of Similar Objects\n"
   ]
  },
  {
   "cell_type": "code",
   "execution_count": 3,
   "id": "acfb5852",
   "metadata": {},
   "outputs": [
    {
     "name": "stdout",
     "output_type": "stream",
     "text": [
      "{'John': 30, 'Tom': 26, 'Tim': 28, 'Shivam': 20}\n"
     ]
    }
   ],
   "source": [
    "user_age={\n",
    "        'John': 30,\n",
    "        'Tom': 26,\n",
    "        'Tim': 28,\n",
    "        'Shivam': 20,\n",
    "        }\n",
    "print(user_age)"
   ]
  },
  {
   "cell_type": "code",
   "execution_count": 6,
   "id": "a792bbf6",
   "metadata": {},
   "outputs": [
    {
     "name": "stdout",
     "output_type": "stream",
     "text": [
      "Shivam Sir age is 20.\n"
     ]
    }
   ],
   "source": [
    "print('Shivam Sir age is '+ str(user_age['Shivam'])+ (\".\"))"
   ]
  },
  {
   "cell_type": "markdown",
   "id": "c3be3e56",
   "metadata": {},
   "source": [
    "###### By breaking print function in several lines"
   ]
  },
  {
   "cell_type": "code",
   "execution_count": 7,
   "id": "00a9af73",
   "metadata": {},
   "outputs": [
    {
     "name": "stdout",
     "output_type": "stream",
     "text": [
      "Shivam Sir age is 20.\n"
     ]
    }
   ],
   "source": [
    "print(\"Shivam Sir age is \"+\n",
    "     str(user_age['Shivam'])+\n",
    "     \".\")"
   ]
  },
  {
   "cell_type": "code",
   "execution_count": null,
   "id": "a8e3afaa",
   "metadata": {},
   "outputs": [],
   "source": []
  }
 ],
 "metadata": {
  "kernelspec": {
   "display_name": "Python 3 (ipykernel)",
   "language": "python",
   "name": "python3"
  },
  "language_info": {
   "codemirror_mode": {
    "name": "ipython",
    "version": 3
   },
   "file_extension": ".py",
   "mimetype": "text/x-python",
   "name": "python",
   "nbconvert_exporter": "python",
   "pygments_lexer": "ipython3",
   "version": "3.9.13"
  }
 },
 "nbformat": 4,
 "nbformat_minor": 5
}
