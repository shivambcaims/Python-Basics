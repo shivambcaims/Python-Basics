{
 "cells": [
  {
   "cell_type": "code",
   "execution_count": 1,
   "id": "0dee7cab",
   "metadata": {},
   "outputs": [
    {
     "name": "stdout",
     "output_type": "stream",
     "text": [
      "Hello Shivam\n"
     ]
    }
   ],
   "source": [
    "print(\"Hello Shivam\")"
   ]
  },
  {
   "cell_type": "code",
   "execution_count": 3,
   "id": "02e39288",
   "metadata": {},
   "outputs": [
    {
     "name": "stdout",
     "output_type": "stream",
     "text": [
      "How are you.?\n"
     ]
    }
   ],
   "source": [
    "print(\"How are you.?\")"
   ]
  },
  {
   "cell_type": "markdown",
   "id": "0fe6f9b7",
   "metadata": {},
   "source": [
    "4th input"
   ]
  },
  {
   "cell_type": "code",
   "execution_count": null,
   "id": "ae70e620",
   "metadata": {},
   "outputs": [],
   "source": []
  }
 ],
 "metadata": {
  "kernelspec": {
   "display_name": "Python 3 (ipykernel)",
   "language": "python",
   "name": "python3"
  },
  "language_info": {
   "codemirror_mode": {
    "name": "ipython",
    "version": 3
   },
   "file_extension": ".py",
   "mimetype": "text/x-python",
   "name": "python",
   "nbconvert_exporter": "python",
   "pygments_lexer": "ipython3",
   "version": "3.9.13"
  }
 },
 "nbformat": 4,
 "nbformat_minor": 5
}
